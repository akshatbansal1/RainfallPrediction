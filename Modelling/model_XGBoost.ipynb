{
 "metadata": {
  "language_info": {
   "codemirror_mode": {
    "name": "ipython",
    "version": 3
   },
   "file_extension": ".py",
   "mimetype": "text/x-python",
   "name": "python",
   "nbconvert_exporter": "python",
   "pygments_lexer": "ipython3",
   "version": "3.8.5"
  },
  "orig_nbformat": 2,
  "kernelspec": {
   "name": "python385jvsc74a57bd07839cf4c65842d51d8727e8d31cc7b71e238461db52811f472cb074731c49f23",
   "display_name": "Python 3.8.5 64-bit ('base': conda)"
  },
  "metadata": {
   "interpreter": {
    "hash": "9164a3399a70d355c381b62813f30880ed90ca5a6f321bf0d85375640bda7ee5"
   }
  }
 },
 "nbformat": 4,
 "nbformat_minor": 2,
 "cells": [
  {
   "source": [
    "# XGBoost Decision Tree Model"
   ],
   "cell_type": "markdown",
   "metadata": {}
  },
  {
   "source": [
    "## 1. Data Loading"
   ],
   "cell_type": "markdown",
   "metadata": {}
  },
  {
   "cell_type": "code",
   "execution_count": 1,
   "metadata": {},
   "outputs": [],
   "source": [
    "import pandas as pd\n",
    "import numpy as np\n",
    "\n",
    "%matplotlib inline\n",
    "\n",
    "pd.set_option('display.max_columns', None)"
   ]
  },
  {
   "cell_type": "code",
   "execution_count": 2,
   "metadata": {},
   "outputs": [
    {
     "output_type": "execute_result",
     "data": {
      "text/plain": [
       "              Date Location   MinTemp   MaxTemp  Rainfall  Evaporation  \\\n",
       "0       2009-01-01   Albury  0.466981  0.591682       0.0     0.067586   \n",
       "1       2009-01-02   Albury  0.426887  0.542533       0.0     0.102069   \n",
       "2       2009-01-03   Albury  0.448113  0.635161       0.0     0.067586   \n",
       "3       2009-01-04   Albury  0.490566  0.744802       0.0     0.064828   \n",
       "4       2009-01-05   Albury  0.504717  0.767486       0.0     0.080000   \n",
       "...            ...      ...       ...       ...       ...          ...   \n",
       "143124  2017-06-21    Uluru  0.266509  0.533081       0.0     0.013793   \n",
       "143125  2017-06-22    Uluru  0.285377  0.568998       0.0     0.009655   \n",
       "143126  2017-06-23    Uluru  0.327830  0.599244       0.0     0.027586   \n",
       "143127  2017-06-24    Uluru  0.384434  0.601134       0.0     0.027586   \n",
       "143128  2017-06-25    Uluru  0.551887  0.361059       0.0     0.027586   \n",
       "\n",
       "        Sunshine  WindGustSpeed  WindSpeed9am  WindSpeed3pm  Humidity9am  \\\n",
       "0       0.931034       0.387597      0.146154      0.356322         0.46   \n",
       "1       0.944828       0.271318      0.146154      0.126437         0.44   \n",
       "2       0.944828       0.155039      0.084615      0.080460         0.43   \n",
       "3       0.834483       0.240310      0.046154      0.195402         0.41   \n",
       "4       0.924138       0.271318      0.046154      0.298851         0.41   \n",
       "...          ...            ...           ...           ...          ...   \n",
       "143124  0.627586       0.193798      0.100000      0.126437         0.51   \n",
       "143125  0.600000       0.124031      0.100000      0.103448         0.56   \n",
       "143126  0.406897       0.240310      0.069231      0.103448         0.53   \n",
       "143127  0.441379       0.170543      0.100000      0.080460         0.51   \n",
       "143128  0.675862       0.271318      0.130769      0.195402         0.62   \n",
       "\n",
       "        Humidity3pm  Pressure9am  Pressure3pm  Cloud9am  Cloud3pm   Temp9am  \\\n",
       "0              0.26     0.396694       0.4176  0.111111  0.111111  0.567511   \n",
       "1              0.22     0.560331       0.5760  0.111111  0.000000  0.466245   \n",
       "2              0.22     0.631405       0.6032  0.000000  0.111111  0.512658   \n",
       "3              0.12     0.571901       0.5312  0.111111  0.444444  0.588608   \n",
       "4              0.09     0.530579       0.5136  0.111111  0.111111  0.624473   \n",
       "...             ...          ...          ...       ...       ...       ...   \n",
       "143124         0.24     0.728926       0.6912  0.111111  0.000000  0.364979   \n",
       "143125         0.21     0.710744       0.6720  0.888889  0.666667  0.381857   \n",
       "143126         0.24     0.669421       0.6352  0.777778  0.333333  0.415612   \n",
       "143127         0.24     0.642975       0.6304  0.333333  0.222222  0.470464   \n",
       "143128         0.36     0.656198       0.6528  0.888889  0.888889  0.468354   \n",
       "\n",
       "         Temp3pm  WindGustDir_N  WindGustDir_E  WindGustDir_S  WindGustDir_W  \\\n",
       "0       0.596929            1.0            0.0            0.0            2.0   \n",
       "1       0.527831            0.0            0.0            0.0            3.0   \n",
       "2       0.612284            0.0            1.0            2.0            0.0   \n",
       "3       0.754319            1.0            0.0            0.0            2.0   \n",
       "4       0.763916            1.0            0.0            0.0            2.0   \n",
       "...          ...            ...            ...            ...            ...   \n",
       "143124  0.533589            0.0            3.0            0.0            0.0   \n",
       "143125  0.573896            2.0            0.0            0.0            1.0   \n",
       "143126  0.604607            3.0            0.0            0.0            0.0   \n",
       "143127  0.602687            0.0            1.5            1.5            0.0   \n",
       "143128  0.504798            1.0            0.0            0.0            2.0   \n",
       "\n",
       "        WindDir9am_N  WindDir9am_E  WindDir9am_S  WindDir9am_W  WindDir3pm_N  \\\n",
       "0                0.0           0.0           0.0           3.0           1.0   \n",
       "1                0.0           0.0           1.0           2.0           0.0   \n",
       "2                0.0           1.0           2.0           0.0           0.0   \n",
       "3                0.0           1.0           2.0           0.0           1.5   \n",
       "4                1.0           2.0           0.0           0.0           1.5   \n",
       "...              ...           ...           ...           ...           ...   \n",
       "143124           0.0           1.5           1.5           0.0           1.0   \n",
       "143125           0.0           1.5           1.5           0.0           3.0   \n",
       "143126           0.0           1.5           1.5           0.0           1.0   \n",
       "143127           0.0           1.0           2.0           0.0           3.0   \n",
       "143128           0.0           2.0           1.0           0.0           0.0   \n",
       "\n",
       "        WindDir3pm_E  WindDir3pm_S  WindDir3pm_W  RainToday_Yes  \\\n",
       "0                0.0           0.0           2.0              0   \n",
       "1                0.0           2.0           1.0              0   \n",
       "2                3.0           0.0           0.0              0   \n",
       "3                0.0           0.0           1.5              0   \n",
       "4                0.0           0.0           1.5              0   \n",
       "...              ...           ...           ...            ...   \n",
       "143124           2.0           0.0           0.0              0   \n",
       "143125           0.0           0.0           0.0              0   \n",
       "143126           0.0           0.0           2.0              0   \n",
       "143127           0.0           0.0           0.0              0   \n",
       "143128           2.0           1.0           0.0              0   \n",
       "\n",
       "        RainTomorrow_Yes  \n",
       "0                      0  \n",
       "1                      0  \n",
       "2                      0  \n",
       "3                      0  \n",
       "4                      0  \n",
       "...                  ...  \n",
       "143124                 0  \n",
       "143125                 0  \n",
       "143126                 0  \n",
       "143127                 0  \n",
       "143128                 0  \n",
       "\n",
       "[143129 rows x 32 columns]"
      ],
      "text/html": "<div>\n<style scoped>\n    .dataframe tbody tr th:only-of-type {\n        vertical-align: middle;\n    }\n\n    .dataframe tbody tr th {\n        vertical-align: top;\n    }\n\n    .dataframe thead th {\n        text-align: right;\n    }\n</style>\n<table border=\"1\" class=\"dataframe\">\n  <thead>\n    <tr style=\"text-align: right;\">\n      <th></th>\n      <th>Date</th>\n      <th>Location</th>\n      <th>MinTemp</th>\n      <th>MaxTemp</th>\n      <th>Rainfall</th>\n      <th>Evaporation</th>\n      <th>Sunshine</th>\n      <th>WindGustSpeed</th>\n      <th>WindSpeed9am</th>\n      <th>WindSpeed3pm</th>\n      <th>Humidity9am</th>\n      <th>Humidity3pm</th>\n      <th>Pressure9am</th>\n      <th>Pressure3pm</th>\n      <th>Cloud9am</th>\n      <th>Cloud3pm</th>\n      <th>Temp9am</th>\n      <th>Temp3pm</th>\n      <th>WindGustDir_N</th>\n      <th>WindGustDir_E</th>\n      <th>WindGustDir_S</th>\n      <th>WindGustDir_W</th>\n      <th>WindDir9am_N</th>\n      <th>WindDir9am_E</th>\n      <th>WindDir9am_S</th>\n      <th>WindDir9am_W</th>\n      <th>WindDir3pm_N</th>\n      <th>WindDir3pm_E</th>\n      <th>WindDir3pm_S</th>\n      <th>WindDir3pm_W</th>\n      <th>RainToday_Yes</th>\n      <th>RainTomorrow_Yes</th>\n    </tr>\n  </thead>\n  <tbody>\n    <tr>\n      <th>0</th>\n      <td>2009-01-01</td>\n      <td>Albury</td>\n      <td>0.466981</td>\n      <td>0.591682</td>\n      <td>0.0</td>\n      <td>0.067586</td>\n      <td>0.931034</td>\n      <td>0.387597</td>\n      <td>0.146154</td>\n      <td>0.356322</td>\n      <td>0.46</td>\n      <td>0.26</td>\n      <td>0.396694</td>\n      <td>0.4176</td>\n      <td>0.111111</td>\n      <td>0.111111</td>\n      <td>0.567511</td>\n      <td>0.596929</td>\n      <td>1.0</td>\n      <td>0.0</td>\n      <td>0.0</td>\n      <td>2.0</td>\n      <td>0.0</td>\n      <td>0.0</td>\n      <td>0.0</td>\n      <td>3.0</td>\n      <td>1.0</td>\n      <td>0.0</td>\n      <td>0.0</td>\n      <td>2.0</td>\n      <td>0</td>\n      <td>0</td>\n    </tr>\n    <tr>\n      <th>1</th>\n      <td>2009-01-02</td>\n      <td>Albury</td>\n      <td>0.426887</td>\n      <td>0.542533</td>\n      <td>0.0</td>\n      <td>0.102069</td>\n      <td>0.944828</td>\n      <td>0.271318</td>\n      <td>0.146154</td>\n      <td>0.126437</td>\n      <td>0.44</td>\n      <td>0.22</td>\n      <td>0.560331</td>\n      <td>0.5760</td>\n      <td>0.111111</td>\n      <td>0.000000</td>\n      <td>0.466245</td>\n      <td>0.527831</td>\n      <td>0.0</td>\n      <td>0.0</td>\n      <td>0.0</td>\n      <td>3.0</td>\n      <td>0.0</td>\n      <td>0.0</td>\n      <td>1.0</td>\n      <td>2.0</td>\n      <td>0.0</td>\n      <td>0.0</td>\n      <td>2.0</td>\n      <td>1.0</td>\n      <td>0</td>\n      <td>0</td>\n    </tr>\n    <tr>\n      <th>2</th>\n      <td>2009-01-03</td>\n      <td>Albury</td>\n      <td>0.448113</td>\n      <td>0.635161</td>\n      <td>0.0</td>\n      <td>0.067586</td>\n      <td>0.944828</td>\n      <td>0.155039</td>\n      <td>0.084615</td>\n      <td>0.080460</td>\n      <td>0.43</td>\n      <td>0.22</td>\n      <td>0.631405</td>\n      <td>0.6032</td>\n      <td>0.000000</td>\n      <td>0.111111</td>\n      <td>0.512658</td>\n      <td>0.612284</td>\n      <td>0.0</td>\n      <td>1.0</td>\n      <td>2.0</td>\n      <td>0.0</td>\n      <td>0.0</td>\n      <td>1.0</td>\n      <td>2.0</td>\n      <td>0.0</td>\n      <td>0.0</td>\n      <td>3.0</td>\n      <td>0.0</td>\n      <td>0.0</td>\n      <td>0</td>\n      <td>0</td>\n    </tr>\n    <tr>\n      <th>3</th>\n      <td>2009-01-04</td>\n      <td>Albury</td>\n      <td>0.490566</td>\n      <td>0.744802</td>\n      <td>0.0</td>\n      <td>0.064828</td>\n      <td>0.834483</td>\n      <td>0.240310</td>\n      <td>0.046154</td>\n      <td>0.195402</td>\n      <td>0.41</td>\n      <td>0.12</td>\n      <td>0.571901</td>\n      <td>0.5312</td>\n      <td>0.111111</td>\n      <td>0.444444</td>\n      <td>0.588608</td>\n      <td>0.754319</td>\n      <td>1.0</td>\n      <td>0.0</td>\n      <td>0.0</td>\n      <td>2.0</td>\n      <td>0.0</td>\n      <td>1.0</td>\n      <td>2.0</td>\n      <td>0.0</td>\n      <td>1.5</td>\n      <td>0.0</td>\n      <td>0.0</td>\n      <td>1.5</td>\n      <td>0</td>\n      <td>0</td>\n    </tr>\n    <tr>\n      <th>4</th>\n      <td>2009-01-05</td>\n      <td>Albury</td>\n      <td>0.504717</td>\n      <td>0.767486</td>\n      <td>0.0</td>\n      <td>0.080000</td>\n      <td>0.924138</td>\n      <td>0.271318</td>\n      <td>0.046154</td>\n      <td>0.298851</td>\n      <td>0.41</td>\n      <td>0.09</td>\n      <td>0.530579</td>\n      <td>0.5136</td>\n      <td>0.111111</td>\n      <td>0.111111</td>\n      <td>0.624473</td>\n      <td>0.763916</td>\n      <td>1.0</td>\n      <td>0.0</td>\n      <td>0.0</td>\n      <td>2.0</td>\n      <td>1.0</td>\n      <td>2.0</td>\n      <td>0.0</td>\n      <td>0.0</td>\n      <td>1.5</td>\n      <td>0.0</td>\n      <td>0.0</td>\n      <td>1.5</td>\n      <td>0</td>\n      <td>0</td>\n    </tr>\n    <tr>\n      <th>...</th>\n      <td>...</td>\n      <td>...</td>\n      <td>...</td>\n      <td>...</td>\n      <td>...</td>\n      <td>...</td>\n      <td>...</td>\n      <td>...</td>\n      <td>...</td>\n      <td>...</td>\n      <td>...</td>\n      <td>...</td>\n      <td>...</td>\n      <td>...</td>\n      <td>...</td>\n      <td>...</td>\n      <td>...</td>\n      <td>...</td>\n      <td>...</td>\n      <td>...</td>\n      <td>...</td>\n      <td>...</td>\n      <td>...</td>\n      <td>...</td>\n      <td>...</td>\n      <td>...</td>\n      <td>...</td>\n      <td>...</td>\n      <td>...</td>\n      <td>...</td>\n      <td>...</td>\n      <td>...</td>\n    </tr>\n    <tr>\n      <th>143124</th>\n      <td>2017-06-21</td>\n      <td>Uluru</td>\n      <td>0.266509</td>\n      <td>0.533081</td>\n      <td>0.0</td>\n      <td>0.013793</td>\n      <td>0.627586</td>\n      <td>0.193798</td>\n      <td>0.100000</td>\n      <td>0.126437</td>\n      <td>0.51</td>\n      <td>0.24</td>\n      <td>0.728926</td>\n      <td>0.6912</td>\n      <td>0.111111</td>\n      <td>0.000000</td>\n      <td>0.364979</td>\n      <td>0.533589</td>\n      <td>0.0</td>\n      <td>3.0</td>\n      <td>0.0</td>\n      <td>0.0</td>\n      <td>0.0</td>\n      <td>1.5</td>\n      <td>1.5</td>\n      <td>0.0</td>\n      <td>1.0</td>\n      <td>2.0</td>\n      <td>0.0</td>\n      <td>0.0</td>\n      <td>0</td>\n      <td>0</td>\n    </tr>\n    <tr>\n      <th>143125</th>\n      <td>2017-06-22</td>\n      <td>Uluru</td>\n      <td>0.285377</td>\n      <td>0.568998</td>\n      <td>0.0</td>\n      <td>0.009655</td>\n      <td>0.600000</td>\n      <td>0.124031</td>\n      <td>0.100000</td>\n      <td>0.103448</td>\n      <td>0.56</td>\n      <td>0.21</td>\n      <td>0.710744</td>\n      <td>0.6720</td>\n      <td>0.888889</td>\n      <td>0.666667</td>\n      <td>0.381857</td>\n      <td>0.573896</td>\n      <td>2.0</td>\n      <td>0.0</td>\n      <td>0.0</td>\n      <td>1.0</td>\n      <td>0.0</td>\n      <td>1.5</td>\n      <td>1.5</td>\n      <td>0.0</td>\n      <td>3.0</td>\n      <td>0.0</td>\n      <td>0.0</td>\n      <td>0.0</td>\n      <td>0</td>\n      <td>0</td>\n    </tr>\n    <tr>\n      <th>143126</th>\n      <td>2017-06-23</td>\n      <td>Uluru</td>\n      <td>0.327830</td>\n      <td>0.599244</td>\n      <td>0.0</td>\n      <td>0.027586</td>\n      <td>0.406897</td>\n      <td>0.240310</td>\n      <td>0.069231</td>\n      <td>0.103448</td>\n      <td>0.53</td>\n      <td>0.24</td>\n      <td>0.669421</td>\n      <td>0.6352</td>\n      <td>0.777778</td>\n      <td>0.333333</td>\n      <td>0.415612</td>\n      <td>0.604607</td>\n      <td>3.0</td>\n      <td>0.0</td>\n      <td>0.0</td>\n      <td>0.0</td>\n      <td>0.0</td>\n      <td>1.5</td>\n      <td>1.5</td>\n      <td>0.0</td>\n      <td>1.0</td>\n      <td>0.0</td>\n      <td>0.0</td>\n      <td>2.0</td>\n      <td>0</td>\n      <td>0</td>\n    </tr>\n    <tr>\n      <th>143127</th>\n      <td>2017-06-24</td>\n      <td>Uluru</td>\n      <td>0.384434</td>\n      <td>0.601134</td>\n      <td>0.0</td>\n      <td>0.027586</td>\n      <td>0.441379</td>\n      <td>0.170543</td>\n      <td>0.100000</td>\n      <td>0.080460</td>\n      <td>0.51</td>\n      <td>0.24</td>\n      <td>0.642975</td>\n      <td>0.6304</td>\n      <td>0.333333</td>\n      <td>0.222222</td>\n      <td>0.470464</td>\n      <td>0.602687</td>\n      <td>0.0</td>\n      <td>1.5</td>\n      <td>1.5</td>\n      <td>0.0</td>\n      <td>0.0</td>\n      <td>1.0</td>\n      <td>2.0</td>\n      <td>0.0</td>\n      <td>3.0</td>\n      <td>0.0</td>\n      <td>0.0</td>\n      <td>0.0</td>\n      <td>0</td>\n      <td>0</td>\n    </tr>\n    <tr>\n      <th>143128</th>\n      <td>2017-06-25</td>\n      <td>Uluru</td>\n      <td>0.551887</td>\n      <td>0.361059</td>\n      <td>0.0</td>\n      <td>0.027586</td>\n      <td>0.675862</td>\n      <td>0.271318</td>\n      <td>0.130769</td>\n      <td>0.195402</td>\n      <td>0.62</td>\n      <td>0.36</td>\n      <td>0.656198</td>\n      <td>0.6528</td>\n      <td>0.888889</td>\n      <td>0.888889</td>\n      <td>0.468354</td>\n      <td>0.504798</td>\n      <td>1.0</td>\n      <td>0.0</td>\n      <td>0.0</td>\n      <td>2.0</td>\n      <td>0.0</td>\n      <td>2.0</td>\n      <td>1.0</td>\n      <td>0.0</td>\n      <td>0.0</td>\n      <td>2.0</td>\n      <td>1.0</td>\n      <td>0.0</td>\n      <td>0</td>\n      <td>0</td>\n    </tr>\n  </tbody>\n</table>\n<p>143129 rows × 32 columns</p>\n</div>"
     },
     "metadata": {},
     "execution_count": 2
    }
   ],
   "source": [
    "df = pd.read_csv(\"final.csv\", index_col=[0])\n",
    "df"
   ]
  },
  {
   "cell_type": "code",
   "execution_count": 3,
   "metadata": {},
   "outputs": [],
   "source": [
    "features = list(df.columns)[2:31]\n",
    "target = [\"RainTomorrow_Yes\"]"
   ]
  },
  {
   "source": [
    "### Note: We tried clustering the entries into 4 groups and add that into the dataframe. However, this does not improve the model performance."
   ],
   "cell_type": "markdown",
   "metadata": {}
  },
  {
   "cell_type": "code",
   "execution_count": null,
   "metadata": {},
   "outputs": [],
   "source": [
    "# from sklearn.cluster import KMeans\n",
    "# kmeansmodel = KMeans(n_clusters=4)\n",
    "# df = df.drop(['Date'],axis=1)\n",
    "# df = df.drop(\"Location\",axis=1)\n",
    "# kmeansmodel.fit(data_kmeans)"
   ]
  },
  {
   "cell_type": "code",
   "execution_count": null,
   "metadata": {},
   "outputs": [],
   "source": [
    "# df[\"Cluster\"]= kmeansmodel.labels_\n",
    "# df.head()"
   ]
  },
  {
   "source": [
    "## 2. Training & Testing Sets"
   ],
   "cell_type": "markdown",
   "metadata": {}
  },
  {
   "cell_type": "code",
   "execution_count": 4,
   "metadata": {},
   "outputs": [],
   "source": [
    "location_list= [i for i in df[\"Location\"].unique()]"
   ]
  },
  {
   "cell_type": "code",
   "execution_count": 5,
   "metadata": {},
   "outputs": [
    {
     "output_type": "execute_result",
     "data": {
      "text/plain": [
       "            Date Location   MinTemp   MaxTemp  Rainfall  Evaporation  \\\n",
       "2435  2015-11-30   Albury  0.436321  0.688091  0.000000     0.048276   \n",
       "1743  2014-01-07   Albury  0.431604  0.610586  0.000000     0.089655   \n",
       "822   2011-05-03   Albury  0.412736  0.504726  0.000000     0.006897   \n",
       "2812  2016-12-11   Albury  0.452830  0.654064  0.000000     0.051034   \n",
       "905   2011-07-25   Albury  0.330189  0.340265  0.043666     0.005517   \n",
       "\n",
       "      Sunshine  WindGustSpeed  WindSpeed9am  WindSpeed3pm  Humidity9am  \\\n",
       "2435  0.758621       0.193798      0.053846      0.149425         0.61   \n",
       "1743  0.944828       0.271318      0.130769      0.149425         0.43   \n",
       "822   0.544828       0.170543      0.000000      0.000000         0.74   \n",
       "2812  0.724138       0.193798      0.069231      0.172414         0.57   \n",
       "905   0.068966       0.155039      0.069231      0.126437         0.99   \n",
       "\n",
       "      Humidity3pm  Pressure9am  Pressure3pm  Cloud9am  Cloud3pm   Temp9am  \\\n",
       "2435         0.21     0.519008       0.4928  0.000000  0.111111  0.531646   \n",
       "1743         0.23     0.644628       0.6288  0.000000  0.000000  0.504219   \n",
       "822          0.46     0.596694       0.5984  0.555556  0.111111  0.459916   \n",
       "2812         0.27     0.672727       0.6592  0.777778  0.888889  0.556962   \n",
       "905          0.80     0.596694       0.6192  0.888889  0.777778  0.320675   \n",
       "\n",
       "       Temp3pm  WindGustDir_N  WindGustDir_E  WindGustDir_S  WindGustDir_W  \\\n",
       "2435  0.671785            0.0            0.0            0.0            3.0   \n",
       "1743  0.587332            0.0            1.0            2.0            0.0   \n",
       "822   0.518234            0.0            1.0            2.0            0.0   \n",
       "2812  0.637236            0.0            0.0            2.0            1.0   \n",
       "905   0.337812            1.5            0.0            0.0            1.5   \n",
       "\n",
       "      WindDir9am_N  WindDir9am_E  WindDir9am_S  WindDir9am_W  WindDir3pm_N  \\\n",
       "2435           0.0           1.0           2.0           0.0           2.0   \n",
       "1743           0.0           0.0           3.0           0.0           0.0   \n",
       "822            0.0           3.0           0.0           0.0           0.0   \n",
       "2812           0.0           1.0           2.0           0.0           0.0   \n",
       "905            0.0           1.5           1.5           0.0           1.5   \n",
       "\n",
       "      WindDir3pm_E  WindDir3pm_S  WindDir3pm_W  RainToday_Yes  \\\n",
       "2435           0.0           0.0           1.0              0   \n",
       "1743           1.0           2.0           0.0              0   \n",
       "822            0.0           0.0           3.0              0   \n",
       "2812           0.0           3.0           0.0              0   \n",
       "905            0.0           0.0           1.5              1   \n",
       "\n",
       "      RainTomorrow_Yes  \n",
       "2435                 0  \n",
       "1743                 0  \n",
       "822                  0  \n",
       "2812                 0  \n",
       "905                  1  "
      ],
      "text/html": "<div>\n<style scoped>\n    .dataframe tbody tr th:only-of-type {\n        vertical-align: middle;\n    }\n\n    .dataframe tbody tr th {\n        vertical-align: top;\n    }\n\n    .dataframe thead th {\n        text-align: right;\n    }\n</style>\n<table border=\"1\" class=\"dataframe\">\n  <thead>\n    <tr style=\"text-align: right;\">\n      <th></th>\n      <th>Date</th>\n      <th>Location</th>\n      <th>MinTemp</th>\n      <th>MaxTemp</th>\n      <th>Rainfall</th>\n      <th>Evaporation</th>\n      <th>Sunshine</th>\n      <th>WindGustSpeed</th>\n      <th>WindSpeed9am</th>\n      <th>WindSpeed3pm</th>\n      <th>Humidity9am</th>\n      <th>Humidity3pm</th>\n      <th>Pressure9am</th>\n      <th>Pressure3pm</th>\n      <th>Cloud9am</th>\n      <th>Cloud3pm</th>\n      <th>Temp9am</th>\n      <th>Temp3pm</th>\n      <th>WindGustDir_N</th>\n      <th>WindGustDir_E</th>\n      <th>WindGustDir_S</th>\n      <th>WindGustDir_W</th>\n      <th>WindDir9am_N</th>\n      <th>WindDir9am_E</th>\n      <th>WindDir9am_S</th>\n      <th>WindDir9am_W</th>\n      <th>WindDir3pm_N</th>\n      <th>WindDir3pm_E</th>\n      <th>WindDir3pm_S</th>\n      <th>WindDir3pm_W</th>\n      <th>RainToday_Yes</th>\n      <th>RainTomorrow_Yes</th>\n    </tr>\n  </thead>\n  <tbody>\n    <tr>\n      <th>2435</th>\n      <td>2015-11-30</td>\n      <td>Albury</td>\n      <td>0.436321</td>\n      <td>0.688091</td>\n      <td>0.000000</td>\n      <td>0.048276</td>\n      <td>0.758621</td>\n      <td>0.193798</td>\n      <td>0.053846</td>\n      <td>0.149425</td>\n      <td>0.61</td>\n      <td>0.21</td>\n      <td>0.519008</td>\n      <td>0.4928</td>\n      <td>0.000000</td>\n      <td>0.111111</td>\n      <td>0.531646</td>\n      <td>0.671785</td>\n      <td>0.0</td>\n      <td>0.0</td>\n      <td>0.0</td>\n      <td>3.0</td>\n      <td>0.0</td>\n      <td>1.0</td>\n      <td>2.0</td>\n      <td>0.0</td>\n      <td>2.0</td>\n      <td>0.0</td>\n      <td>0.0</td>\n      <td>1.0</td>\n      <td>0</td>\n      <td>0</td>\n    </tr>\n    <tr>\n      <th>1743</th>\n      <td>2014-01-07</td>\n      <td>Albury</td>\n      <td>0.431604</td>\n      <td>0.610586</td>\n      <td>0.000000</td>\n      <td>0.089655</td>\n      <td>0.944828</td>\n      <td>0.271318</td>\n      <td>0.130769</td>\n      <td>0.149425</td>\n      <td>0.43</td>\n      <td>0.23</td>\n      <td>0.644628</td>\n      <td>0.6288</td>\n      <td>0.000000</td>\n      <td>0.000000</td>\n      <td>0.504219</td>\n      <td>0.587332</td>\n      <td>0.0</td>\n      <td>1.0</td>\n      <td>2.0</td>\n      <td>0.0</td>\n      <td>0.0</td>\n      <td>0.0</td>\n      <td>3.0</td>\n      <td>0.0</td>\n      <td>0.0</td>\n      <td>1.0</td>\n      <td>2.0</td>\n      <td>0.0</td>\n      <td>0</td>\n      <td>0</td>\n    </tr>\n    <tr>\n      <th>822</th>\n      <td>2011-05-03</td>\n      <td>Albury</td>\n      <td>0.412736</td>\n      <td>0.504726</td>\n      <td>0.000000</td>\n      <td>0.006897</td>\n      <td>0.544828</td>\n      <td>0.170543</td>\n      <td>0.000000</td>\n      <td>0.000000</td>\n      <td>0.74</td>\n      <td>0.46</td>\n      <td>0.596694</td>\n      <td>0.5984</td>\n      <td>0.555556</td>\n      <td>0.111111</td>\n      <td>0.459916</td>\n      <td>0.518234</td>\n      <td>0.0</td>\n      <td>1.0</td>\n      <td>2.0</td>\n      <td>0.0</td>\n      <td>0.0</td>\n      <td>3.0</td>\n      <td>0.0</td>\n      <td>0.0</td>\n      <td>0.0</td>\n      <td>0.0</td>\n      <td>0.0</td>\n      <td>3.0</td>\n      <td>0</td>\n      <td>0</td>\n    </tr>\n    <tr>\n      <th>2812</th>\n      <td>2016-12-11</td>\n      <td>Albury</td>\n      <td>0.452830</td>\n      <td>0.654064</td>\n      <td>0.000000</td>\n      <td>0.051034</td>\n      <td>0.724138</td>\n      <td>0.193798</td>\n      <td>0.069231</td>\n      <td>0.172414</td>\n      <td>0.57</td>\n      <td>0.27</td>\n      <td>0.672727</td>\n      <td>0.6592</td>\n      <td>0.777778</td>\n      <td>0.888889</td>\n      <td>0.556962</td>\n      <td>0.637236</td>\n      <td>0.0</td>\n      <td>0.0</td>\n      <td>2.0</td>\n      <td>1.0</td>\n      <td>0.0</td>\n      <td>1.0</td>\n      <td>2.0</td>\n      <td>0.0</td>\n      <td>0.0</td>\n      <td>0.0</td>\n      <td>3.0</td>\n      <td>0.0</td>\n      <td>0</td>\n      <td>0</td>\n    </tr>\n    <tr>\n      <th>905</th>\n      <td>2011-07-25</td>\n      <td>Albury</td>\n      <td>0.330189</td>\n      <td>0.340265</td>\n      <td>0.043666</td>\n      <td>0.005517</td>\n      <td>0.068966</td>\n      <td>0.155039</td>\n      <td>0.069231</td>\n      <td>0.126437</td>\n      <td>0.99</td>\n      <td>0.80</td>\n      <td>0.596694</td>\n      <td>0.6192</td>\n      <td>0.888889</td>\n      <td>0.777778</td>\n      <td>0.320675</td>\n      <td>0.337812</td>\n      <td>1.5</td>\n      <td>0.0</td>\n      <td>0.0</td>\n      <td>1.5</td>\n      <td>0.0</td>\n      <td>1.5</td>\n      <td>1.5</td>\n      <td>0.0</td>\n      <td>1.5</td>\n      <td>0.0</td>\n      <td>0.0</td>\n      <td>1.5</td>\n      <td>1</td>\n      <td>1</td>\n    </tr>\n  </tbody>\n</table>\n</div>"
     },
     "metadata": {},
     "execution_count": 5
    }
   ],
   "source": [
    "data_training = pd.DataFrame()\n",
    "\n",
    "for i in location_list:\n",
    "    a = df[df['Location']==i]\n",
    "    sample= a.sample(frac= 0.8)\n",
    "    data_training = data_training.append(sample)\n",
    "\n",
    "data_training.head()"
   ]
  },
  {
   "cell_type": "code",
   "execution_count": 6,
   "metadata": {},
   "outputs": [
    {
     "output_type": "execute_result",
     "data": {
      "text/plain": [
       "          Date Location   MinTemp   MaxTemp  Rainfall  Evaporation  Sunshine  \\\n",
       "3   2009-01-04   Albury  0.490566  0.744802  0.000000     0.064828  0.834483   \n",
       "10  2009-01-11   Albury  0.599057  0.695652  0.000000     0.071724  0.696552   \n",
       "16  2009-01-17   Albury  0.448113  0.627599  0.000000     0.103448  0.924138   \n",
       "30  2009-01-31   Albury  0.719340  0.897921  0.000000     0.091034  0.917241   \n",
       "32  2009-02-02   Albury  0.775943  0.814745  0.000539     0.126897  0.668966   \n",
       "\n",
       "    WindGustSpeed  WindSpeed9am  WindSpeed3pm  Humidity9am  Humidity3pm  \\\n",
       "3        0.240310      0.046154      0.195402         0.41         0.12   \n",
       "10       0.193798      0.100000      0.195402         0.52         0.31   \n",
       "16       0.209302      0.146154      0.126437         0.35         0.16   \n",
       "30       0.325581      0.030769      0.045977         0.33         0.11   \n",
       "32       0.387597      0.146154      0.080460         0.32         0.21   \n",
       "\n",
       "    Pressure9am  Pressure3pm  Cloud9am  Cloud3pm   Temp9am   Temp3pm  \\\n",
       "3      0.571901       0.5312  0.111111  0.444444  0.588608  0.754319   \n",
       "10     0.485950       0.4752  0.111111  0.777778  0.632911  0.679463   \n",
       "16     0.647934       0.6448  0.111111  0.111111  0.489451  0.598848   \n",
       "30     0.557025       0.5344  0.222222  0.111111  0.782700  0.909789   \n",
       "32     0.515702       0.4848  0.222222  0.777778  0.759494  0.815739   \n",
       "\n",
       "    WindGustDir_N  WindGustDir_E  WindGustDir_S  WindGustDir_W  WindDir9am_N  \\\n",
       "3             1.0            0.0            0.0            2.0           0.0   \n",
       "10            0.0            0.0            3.0            0.0           0.0   \n",
       "16            0.0            1.5            1.5            0.0           0.0   \n",
       "30            0.0            2.0            1.0            0.0           0.0   \n",
       "32            0.0            0.0            1.5            1.5           1.5   \n",
       "\n",
       "    WindDir9am_E  WindDir9am_S  WindDir9am_W  WindDir3pm_N  WindDir3pm_E  \\\n",
       "3            1.0           2.0           0.0           1.5           0.0   \n",
       "10           1.0           2.0           0.0           3.0           0.0   \n",
       "16           1.5           1.5           0.0           0.0           0.0   \n",
       "30           2.0           1.0           0.0           0.0           0.0   \n",
       "32           1.5           0.0           0.0           1.5           0.0   \n",
       "\n",
       "    WindDir3pm_S  WindDir3pm_W  RainToday_Yes  RainTomorrow_Yes  \n",
       "3            0.0           1.5              0                 0  \n",
       "10           0.0           0.0              0                 0  \n",
       "16           1.5           1.5              0                 0  \n",
       "30           1.5           1.5              0                 0  \n",
       "32           0.0           1.5              0                 0  "
      ],
      "text/html": "<div>\n<style scoped>\n    .dataframe tbody tr th:only-of-type {\n        vertical-align: middle;\n    }\n\n    .dataframe tbody tr th {\n        vertical-align: top;\n    }\n\n    .dataframe thead th {\n        text-align: right;\n    }\n</style>\n<table border=\"1\" class=\"dataframe\">\n  <thead>\n    <tr style=\"text-align: right;\">\n      <th></th>\n      <th>Date</th>\n      <th>Location</th>\n      <th>MinTemp</th>\n      <th>MaxTemp</th>\n      <th>Rainfall</th>\n      <th>Evaporation</th>\n      <th>Sunshine</th>\n      <th>WindGustSpeed</th>\n      <th>WindSpeed9am</th>\n      <th>WindSpeed3pm</th>\n      <th>Humidity9am</th>\n      <th>Humidity3pm</th>\n      <th>Pressure9am</th>\n      <th>Pressure3pm</th>\n      <th>Cloud9am</th>\n      <th>Cloud3pm</th>\n      <th>Temp9am</th>\n      <th>Temp3pm</th>\n      <th>WindGustDir_N</th>\n      <th>WindGustDir_E</th>\n      <th>WindGustDir_S</th>\n      <th>WindGustDir_W</th>\n      <th>WindDir9am_N</th>\n      <th>WindDir9am_E</th>\n      <th>WindDir9am_S</th>\n      <th>WindDir9am_W</th>\n      <th>WindDir3pm_N</th>\n      <th>WindDir3pm_E</th>\n      <th>WindDir3pm_S</th>\n      <th>WindDir3pm_W</th>\n      <th>RainToday_Yes</th>\n      <th>RainTomorrow_Yes</th>\n    </tr>\n  </thead>\n  <tbody>\n    <tr>\n      <th>3</th>\n      <td>2009-01-04</td>\n      <td>Albury</td>\n      <td>0.490566</td>\n      <td>0.744802</td>\n      <td>0.000000</td>\n      <td>0.064828</td>\n      <td>0.834483</td>\n      <td>0.240310</td>\n      <td>0.046154</td>\n      <td>0.195402</td>\n      <td>0.41</td>\n      <td>0.12</td>\n      <td>0.571901</td>\n      <td>0.5312</td>\n      <td>0.111111</td>\n      <td>0.444444</td>\n      <td>0.588608</td>\n      <td>0.754319</td>\n      <td>1.0</td>\n      <td>0.0</td>\n      <td>0.0</td>\n      <td>2.0</td>\n      <td>0.0</td>\n      <td>1.0</td>\n      <td>2.0</td>\n      <td>0.0</td>\n      <td>1.5</td>\n      <td>0.0</td>\n      <td>0.0</td>\n      <td>1.5</td>\n      <td>0</td>\n      <td>0</td>\n    </tr>\n    <tr>\n      <th>10</th>\n      <td>2009-01-11</td>\n      <td>Albury</td>\n      <td>0.599057</td>\n      <td>0.695652</td>\n      <td>0.000000</td>\n      <td>0.071724</td>\n      <td>0.696552</td>\n      <td>0.193798</td>\n      <td>0.100000</td>\n      <td>0.195402</td>\n      <td>0.52</td>\n      <td>0.31</td>\n      <td>0.485950</td>\n      <td>0.4752</td>\n      <td>0.111111</td>\n      <td>0.777778</td>\n      <td>0.632911</td>\n      <td>0.679463</td>\n      <td>0.0</td>\n      <td>0.0</td>\n      <td>3.0</td>\n      <td>0.0</td>\n      <td>0.0</td>\n      <td>1.0</td>\n      <td>2.0</td>\n      <td>0.0</td>\n      <td>3.0</td>\n      <td>0.0</td>\n      <td>0.0</td>\n      <td>0.0</td>\n      <td>0</td>\n      <td>0</td>\n    </tr>\n    <tr>\n      <th>16</th>\n      <td>2009-01-17</td>\n      <td>Albury</td>\n      <td>0.448113</td>\n      <td>0.627599</td>\n      <td>0.000000</td>\n      <td>0.103448</td>\n      <td>0.924138</td>\n      <td>0.209302</td>\n      <td>0.146154</td>\n      <td>0.126437</td>\n      <td>0.35</td>\n      <td>0.16</td>\n      <td>0.647934</td>\n      <td>0.6448</td>\n      <td>0.111111</td>\n      <td>0.111111</td>\n      <td>0.489451</td>\n      <td>0.598848</td>\n      <td>0.0</td>\n      <td>1.5</td>\n      <td>1.5</td>\n      <td>0.0</td>\n      <td>0.0</td>\n      <td>1.5</td>\n      <td>1.5</td>\n      <td>0.0</td>\n      <td>0.0</td>\n      <td>0.0</td>\n      <td>1.5</td>\n      <td>1.5</td>\n      <td>0</td>\n      <td>0</td>\n    </tr>\n    <tr>\n      <th>30</th>\n      <td>2009-01-31</td>\n      <td>Albury</td>\n      <td>0.719340</td>\n      <td>0.897921</td>\n      <td>0.000000</td>\n      <td>0.091034</td>\n      <td>0.917241</td>\n      <td>0.325581</td>\n      <td>0.030769</td>\n      <td>0.045977</td>\n      <td>0.33</td>\n      <td>0.11</td>\n      <td>0.557025</td>\n      <td>0.5344</td>\n      <td>0.222222</td>\n      <td>0.111111</td>\n      <td>0.782700</td>\n      <td>0.909789</td>\n      <td>0.0</td>\n      <td>2.0</td>\n      <td>1.0</td>\n      <td>0.0</td>\n      <td>0.0</td>\n      <td>2.0</td>\n      <td>1.0</td>\n      <td>0.0</td>\n      <td>0.0</td>\n      <td>0.0</td>\n      <td>1.5</td>\n      <td>1.5</td>\n      <td>0</td>\n      <td>0</td>\n    </tr>\n    <tr>\n      <th>32</th>\n      <td>2009-02-02</td>\n      <td>Albury</td>\n      <td>0.775943</td>\n      <td>0.814745</td>\n      <td>0.000539</td>\n      <td>0.126897</td>\n      <td>0.668966</td>\n      <td>0.387597</td>\n      <td>0.146154</td>\n      <td>0.080460</td>\n      <td>0.32</td>\n      <td>0.21</td>\n      <td>0.515702</td>\n      <td>0.4848</td>\n      <td>0.222222</td>\n      <td>0.777778</td>\n      <td>0.759494</td>\n      <td>0.815739</td>\n      <td>0.0</td>\n      <td>0.0</td>\n      <td>1.5</td>\n      <td>1.5</td>\n      <td>1.5</td>\n      <td>1.5</td>\n      <td>0.0</td>\n      <td>0.0</td>\n      <td>1.5</td>\n      <td>0.0</td>\n      <td>0.0</td>\n      <td>1.5</td>\n      <td>0</td>\n      <td>0</td>\n    </tr>\n  </tbody>\n</table>\n</div>"
     },
     "metadata": {},
     "execution_count": 6
    }
   ],
   "source": [
    "data_testing = df.copy() # first copy the original dataset \n",
    "\n",
    "X_merge = pd.merge(df, data_training, how='inner') #merges the two datasets of training and original\n",
    "\n",
    "data_testing = data_testing.append(X_merge) #appends the original and training to the data_testing\n",
    "data_testing['Duplicated']= data_testing.duplicated(keep=False) #hence marks all the duplocated rows with a True\n",
    "\n",
    "data_testing_final = data_testing[~data_testing['Duplicated']] #selects rows which are not duplicated\n",
    "del data_testing_final['Duplicated']\n",
    "\n",
    "data_testing_final.head()   # data_testing= df - data_training"
   ]
  },
  {
   "cell_type": "code",
   "execution_count": 8,
   "metadata": {},
   "outputs": [],
   "source": [
    "X_train= data_training[features]\n",
    "y_train= data_training[target]\n",
    "\n",
    "X_val= data_testing_final[features]\n",
    "y_val= data_testing_final[target]"
   ]
  },
  {
   "source": [
    "## 3. Majority Classifier Benchmarking"
   ],
   "cell_type": "markdown",
   "metadata": {}
  },
  {
   "cell_type": "code",
   "execution_count": 14,
   "metadata": {},
   "outputs": [],
   "source": [
    "from sklearn.dummy import DummyClassifier"
   ]
  },
  {
   "cell_type": "code",
   "execution_count": 15,
   "metadata": {},
   "outputs": [],
   "source": [
    "dummy_clf = DummyClassifier(strategy=\"most_frequent\")   # i.e., majority classifier\n",
    "dummy_clf.fit(X_train, y_train)\n",
    "pred = dummy_clf.predict(X_val)"
   ]
  },
  {
   "cell_type": "code",
   "execution_count": 16,
   "metadata": {},
   "outputs": [
    {
     "output_type": "stream",
     "name": "stdout",
     "text": [
      "MAE: 0.2263584299483168\n",
      "Accuracy: 0.7736415700516832\n",
      "Classification Report:\n",
      "               precision    recall  f1-score   support\n",
      "\n",
      "           0       0.77      1.00      0.87     22154\n",
      "           1       0.00      0.00      0.00      6482\n",
      "\n",
      "    accuracy                           0.77     28636\n",
      "   macro avg       0.39      0.50      0.44     28636\n",
      "weighted avg       0.60      0.77      0.67     28636\n",
      "\n",
      "Confusion Matrix:\n",
      " [[22154     0]\n",
      " [ 6482     0]]\n",
      "E:\\Programs\\anaconda3\\lib\\site-packages\\sklearn\\metrics\\_classification.py:1221: UndefinedMetricWarning: Precision and F-score are ill-defined and being set to 0.0 in labels with no predicted samples. Use `zero_division` parameter to control this behavior.\n",
      "  _warn_prf(average, modifier, msg_start, len(result))\n"
     ]
    }
   ],
   "source": [
    "from sklearn import metrics\n",
    "\n",
    "def metrics_report(pred):\n",
    "    print(\"MAE:\", metrics.mean_absolute_error(y_val, pred))\n",
    "    print(\"Accuracy:\", metrics.accuracy_score(y_val, pred, normalize=True, sample_weight=None))\n",
    "    print(\"Classification Report:\\n\", metrics.classification_report(y_val, pred))\n",
    "    print(\"Confusion Matrix:\\n\", metrics.confusion_matrix(y_val, pred))\n",
    "\n",
    "metrics_report(pred)"
   ]
  },
  {
   "source": [
    "## 4. XGBoost"
   ],
   "cell_type": "markdown",
   "metadata": {}
  },
  {
   "cell_type": "code",
   "execution_count": 9,
   "metadata": {},
   "outputs": [],
   "source": [
    "import xgboost as xgb"
   ]
  },
  {
   "cell_type": "code",
   "execution_count": 10,
   "metadata": {},
   "outputs": [],
   "source": [
    "train = xgb.DMatrix(X_train, label=y_train)"
   ]
  },
  {
   "cell_type": "code",
   "execution_count": 13,
   "metadata": {},
   "outputs": [],
   "source": [
    "# Let's do a wild guess\n",
    "params = {\n",
    "    'eta': 0.3,     # Learning rate\n",
    "    'max_depth': 1,\n",
    "    'gamma': 0,\n",
    "    'num_class': 2,  # Yes or No\n",
    "    'objective': 'multi:softmax',\n",
    "    'eval_metric': [(X_val, y_val)],\n",
    "}\n",
    "\n",
    "xgb_clf = xgb.XGBClassifier(**params, use_label_encoder=False, verbosity=0)"
   ]
  },
  {
   "cell_type": "code",
   "execution_count": 14,
   "metadata": {},
   "outputs": [
    {
     "output_type": "execute_result",
     "data": {
      "text/plain": [
       "XGBClassifier(base_score=0.5, booster='gbtree', colsample_bylevel=1,\n",
       "              colsample_bynode=1, colsample_bytree=1, eta=0.3,\n",
       "              eval_metric=[(         MinTemp   MaxTemp  Rainfall  Evaporation  Sunshine  WindGustSpeed  \\\n",
       "5       0.523585  0.807183  0.000000     0.089655  0.937931       0.356589   \n",
       "20      0.655660  0.810964  0.002156     0.107586  0.848276       0.426357   \n",
       "22      0.643868  0.756144  0.017251     0.070345  0.758621       0.356589   \n",
       "39      0.634434  0.680529  0....\n",
       "              interaction_constraints='', learning_rate=0.300000012,\n",
       "              max_delta_step=0, max_depth=1, min_child_weight=1, missing=nan,\n",
       "              monotone_constraints='()', n_estimators=100, n_jobs=8,\n",
       "              num_class=2, num_parallel_tree=1, objective='multi:softmax',\n",
       "              random_state=0, reg_alpha=0, reg_lambda=1, scale_pos_weight=None,\n",
       "              subsample=1, tree_method='exact', use_label_encoder=False,\n",
       "              validate_parameters=1, ...)"
      ]
     },
     "metadata": {},
     "execution_count": 14
    }
   ],
   "source": [
    "xgb_clf.fit(X_train, y_train, early_stopping_rounds=10, eval_metric=\"mlogloss\", eval_set=[(X_val, y_val)], verbose=False)"
   ]
  },
  {
   "cell_type": "code",
   "execution_count": 15,
   "metadata": {},
   "outputs": [
    {
     "output_type": "stream",
     "name": "stdout",
     "text": [
      "MAE: 0.15372258695348512\n",
      "Accuracy: 0.8462774130465148\n",
      "Classification Report:\n",
      "               precision    recall  f1-score   support\n",
      "\n",
      "           0       0.87      0.95      0.91     22147\n",
      "           1       0.74      0.50      0.60      6489\n",
      "\n",
      "    accuracy                           0.85     28636\n",
      "   macro avg       0.80      0.72      0.75     28636\n",
      "weighted avg       0.84      0.85      0.84     28636\n",
      "\n",
      "Confusion Matrix:\n",
      " [[20973  1174]\n",
      " [ 3228  3261]]\n",
      "E:\\Programs\\anaconda3\\lib\\site-packages\\xgboost\\data.py:112: UserWarning: Use subset (sliced data) of np.ndarray is not recommended because it will generate extra copies and increase memory consumption\n",
      "  warnings.warn(\n"
     ]
    }
   ],
   "source": [
    "predictions = xgb_clf.predict(X_val)\n",
    "metrics_report(predictions)"
   ]
  },
  {
   "source": [
    "### Hyperparameter tuning"
   ],
   "cell_type": "markdown",
   "metadata": {}
  },
  {
   "cell_type": "code",
   "execution_count": 16,
   "metadata": {},
   "outputs": [],
   "source": [
    "params = {\n",
    "    'eta': 0.3,     # Learning rate\n",
    "    'max_depth': 1,\n",
    "    'gamma': 0,\n",
    "    'num_class': 2,  # Yes or No\n",
    "    'objective': 'multi:softmax',\n",
    "    'eval_metric': [(X_val, y_val)],\n",
    "}"
   ]
  },
  {
   "cell_type": "code",
   "execution_count": 17,
   "metadata": {},
   "outputs": [
    {
     "output_type": "execute_result",
     "data": {
      "text/plain": [
       "[(0.3, 1, 0),\n",
       " (0.3, 1, 0.05),\n",
       " (0.3, 2, 0),\n",
       " (0.3, 2, 0.05),\n",
       " (0.5, 1, 0),\n",
       " (0.5, 1, 0.05),\n",
       " (0.5, 2, 0),\n",
       " (0.5, 2, 0.05),\n",
       " (0.7, 1, 0),\n",
       " (0.7, 1, 0.05),\n",
       " (0.7, 2, 0),\n",
       " (0.7, 2, 0.05),\n",
       " (0.9, 1, 0),\n",
       " (0.9, 1, 0.05),\n",
       " (0.9, 2, 0),\n",
       " (0.9, 2, 0.05)]"
      ]
     },
     "metadata": {},
     "execution_count": 17
    }
   ],
   "source": [
    "gridsearch_params = [\n",
    "    (eta, max_depth, gamma)\n",
    "    for eta in [0.3, 0.5, 0.7, 0.9]\n",
    "    for max_depth in [1, 2] \n",
    "    for gamma in [0, 0.05]\n",
    "]\n",
    "\n",
    "gridsearch_params"
   ]
  },
  {
   "cell_type": "code",
   "execution_count": 18,
   "metadata": {
    "tags": []
   },
   "outputs": [
    {
     "output_type": "stream",
     "name": "stdout",
     "text": [
      "CV with eta=0.3, max_depth=1, gamma=0\n",
      "\tmlogloss = 0.34090475\n",
      "CV with eta=0.3, max_depth=1, gamma=0.05\n",
      "\tmlogloss = 0.34090475\n",
      "CV with eta=0.3, max_depth=2, gamma=0\n",
      "\tmlogloss = 0.317961\n",
      "CV with eta=0.3, max_depth=2, gamma=0.05\n",
      "\tmlogloss = 0.31796749999999996\n",
      "CV with eta=0.5, max_depth=1, gamma=0\n",
      "\tmlogloss = 0.33964\n",
      "CV with eta=0.5, max_depth=1, gamma=0.05\n",
      "\tmlogloss = 0.33964\n",
      "CV with eta=0.5, max_depth=2, gamma=0\n",
      "\tmlogloss = 0.30991475\n",
      "CV with eta=0.5, max_depth=2, gamma=0.05\n",
      "\tmlogloss = 0.30991475\n",
      "CV with eta=0.7, max_depth=1, gamma=0\n",
      "\tmlogloss = 0.33849074999999995\n",
      "CV with eta=0.7, max_depth=1, gamma=0.05\n",
      "\tmlogloss = 0.33849074999999995\n",
      "CV with eta=0.7, max_depth=2, gamma=0\n",
      "\tmlogloss = 0.3159445\n",
      "CV with eta=0.7, max_depth=2, gamma=0.05\n",
      "\tmlogloss = 0.3159445\n",
      "CV with eta=0.9, max_depth=1, gamma=0\n",
      "\tmlogloss = 0.33762574999999995\n",
      "CV with eta=0.9, max_depth=1, gamma=0.05\n",
      "\tmlogloss = 0.33762574999999995\n",
      "CV with eta=0.9, max_depth=2, gamma=0\n",
      "\tmlogloss = 0.318031\n",
      "CV with eta=0.9, max_depth=2, gamma=0.05\n",
      "\tmlogloss = 0.31803125\n",
      "Wall time: 8min 25s\n"
     ]
    }
   ],
   "source": [
    "%%time\n",
    "\n",
    "mlogloss_mins = []\n",
    "min_mlogloss_min = 99999\n",
    "best_params = None\n",
    "\n",
    "for eta, max_depth, gamma in gridsearch_params:\n",
    "    print(f'CV with eta={eta}, max_depth={max_depth}, gamma={gamma}')\n",
    "\n",
    "    # Update params\n",
    "    params['eta'] = eta\n",
    "    params['max_depth'] = max_depth\n",
    "    params['gamma'] = gamma\n",
    "\n",
    "    # Run CV\n",
    "    cv_results = xgb.cv(params, train, seed=42, nfold=4, num_boost_round=400, early_stopping_rounds=10, metrics={\"mlogloss\"})\n",
    "\n",
    "    min_mlogloss = cv_results['train-mlogloss-mean'].min()\n",
    "    print(f'\\tmlogloss = {min_mlogloss}')\n",
    "\n",
    "    mlogloss_mins.append(min_mlogloss)\n",
    "    if min_mlogloss < min_mlogloss_min:\n",
    "        min_mlogloss_min = min_mlogloss\n",
    "        best_params = (eta, max_depth, gamma)"
   ]
  },
  {
   "source": [
    "### Train Model with the Best Parameters"
   ],
   "cell_type": "markdown",
   "metadata": {}
  },
  {
   "cell_type": "code",
   "execution_count": 19,
   "metadata": {},
   "outputs": [
    {
     "output_type": "stream",
     "name": "stdout",
     "text": [
      "(0.5, 2, 0)\n"
     ]
    }
   ],
   "source": [
    "print(best_params)\n",
    "# First item = eta\n",
    "# Second item = max_depth\n",
    "# Thrid item = gamma"
   ]
  },
  {
   "cell_type": "code",
   "execution_count": 11,
   "metadata": {},
   "outputs": [],
   "source": [
    "best_params = {\n",
    "    'eta': 0.5,     # Learning rate\n",
    "    'max_depth': 2,\n",
    "    'min_child_weight': 1,\n",
    "    'gamma': 0,\n",
    "    'num_class': 2,  # Yes or No\n",
    "    'objective': 'multi:softmax',\n",
    "    'eval_metric': [(X_val, y_val)],\n",
    "}"
   ]
  },
  {
   "cell_type": "code",
   "execution_count": 17,
   "metadata": {},
   "outputs": [
    {
     "output_type": "stream",
     "name": "stdout",
     "text": [
      "MAE: 0.14754155608325184\n",
      "Accuracy: 0.8524584439167482\n",
      "Classification Report:\n",
      "               precision    recall  f1-score   support\n",
      "\n",
      "           0       0.88      0.94      0.91     22154\n",
      "           1       0.74      0.54      0.62      6482\n",
      "\n",
      "    accuracy                           0.85     28636\n",
      "   macro avg       0.81      0.74      0.77     28636\n",
      "weighted avg       0.84      0.85      0.84     28636\n",
      "\n",
      "Confusion Matrix:\n",
      " [[20910  1244]\n",
      " [ 2981  3501]]\n",
      "E:\\Programs\\anaconda3\\lib\\site-packages\\xgboost\\data.py:112: UserWarning: Use subset (sliced data) of np.ndarray is not recommended because it will generate extra copies and increase memory consumption\n",
      "  warnings.warn(\n"
     ]
    }
   ],
   "source": [
    "# n_estimators = Number of boosting rounds\n",
    "xgb_clf_best = xgb.XGBClassifier(**best_params, n_estimators=400, use_label_encoder=False, verbosity=0)\n",
    "\n",
    "xgb_clf_best.fit(X_train, y_train, early_stopping_rounds=10, eval_metric=\"mlogloss\", eval_set=[(X_val, y_val)], verbose=False)\n",
    "predictions = xgb_clf_best.predict(X_val)\n",
    "metrics_report(predictions)"
   ]
  },
  {
   "cell_type": "code",
   "execution_count": 18,
   "metadata": {},
   "outputs": [],
   "source": [
    "from sklearn.metrics import roc_curve, roc_auc_score"
   ]
  },
  {
   "cell_type": "code",
   "execution_count": 19,
   "metadata": {},
   "outputs": [
    {
     "output_type": "stream",
     "name": "stdout",
     "text": [
      "0.8861641895973926\n",
      "E:\\Programs\\anaconda3\\lib\\site-packages\\xgboost\\data.py:112: UserWarning: Use subset (sliced data) of np.ndarray is not recommended because it will generate extra copies and increase memory consumption\n",
      "  warnings.warn(\n"
     ]
    }
   ],
   "source": [
    "predict_proba = xgb_clf_best.predict_proba(X_val)\n",
    "print(roc_auc_score(y_val, predict_proba[:,1]))"
   ]
  },
  {
   "cell_type": "code",
   "execution_count": 21,
   "metadata": {},
   "outputs": [
    {
     "output_type": "display_data",
     "data": {
      "text/plain": "<Figure size 432x288 with 1 Axes>",
      "image/svg+xml": "<?xml version=\"1.0\" encoding=\"utf-8\" standalone=\"no\"?>\r\n<!DOCTYPE svg PUBLIC \"-//W3C//DTD SVG 1.1//EN\"\r\n  \"http://www.w3.org/Graphics/SVG/1.1/DTD/svg11.dtd\">\r\n<!-- Created with matplotlib (https://matplotlib.org/) -->\r\n<svg height=\"277.314375pt\" version=\"1.1\" viewBox=\"0 0 385.78125 277.314375\" width=\"385.78125pt\" xmlns=\"http://www.w3.org/2000/svg\" xmlns:xlink=\"http://www.w3.org/1999/xlink\">\r\n <metadata>\r\n  <rdf:RDF xmlns:cc=\"http://creativecommons.org/ns#\" xmlns:dc=\"http://purl.org/dc/elements/1.1/\" xmlns:rdf=\"http://www.w3.org/1999/02/22-rdf-syntax-ns#\">\r\n   <cc:Work>\r\n    <dc:type rdf:resource=\"http://purl.org/dc/dcmitype/StillImage\"/>\r\n    <dc:date>2021-05-06T21:30:35.814878</dc:date>\r\n    <dc:format>image/svg+xml</dc:format>\r\n    <dc:creator>\r\n     <cc:Agent>\r\n      <dc:title>Matplotlib v3.3.2, https://matplotlib.org/</dc:title>\r\n     </cc:Agent>\r\n    </dc:creator>\r\n   </cc:Work>\r\n  </rdf:RDF>\r\n </metadata>\r\n <defs>\r\n  <style type=\"text/css\">*{stroke-linecap:butt;stroke-linejoin:round;}</style>\r\n </defs>\r\n <g id=\"figure_1\">\r\n  <g id=\"patch_1\">\r\n   <path d=\"M 0 277.314375 \r\nL 385.78125 277.314375 \r\nL 385.78125 0 \r\nL 0 0 \r\nz\r\n\" style=\"fill:none;\"/>\r\n  </g>\r\n  <g id=\"axes_1\">\r\n   <g id=\"patch_2\">\r\n    <path d=\"M 43.78125 239.758125 \r\nL 378.58125 239.758125 \r\nL 378.58125 22.318125 \r\nL 43.78125 22.318125 \r\nz\r\n\" style=\"fill:#ffffff;\"/>\r\n   </g>\r\n   <g id=\"matplotlib.axis_1\">\r\n    <g id=\"xtick_1\">\r\n     <g id=\"line2d_1\">\r\n      <defs>\r\n       <path d=\"M 0 0 \r\nL 0 3.5 \r\n\" id=\"m3d0c7fef7c\" style=\"stroke:#000000;stroke-width:0.8;\"/>\r\n      </defs>\r\n      <g>\r\n       <use style=\"stroke:#000000;stroke-width:0.8;\" x=\"58.999432\" xlink:href=\"#m3d0c7fef7c\" y=\"239.758125\"/>\r\n      </g>\r\n     </g>\r\n     <g id=\"text_1\">\r\n      <!-- 0.0 -->\r\n      <g transform=\"translate(51.047869 254.356562)scale(0.1 -0.1)\">\r\n       <defs>\r\n        <path d=\"M 31.78125 66.40625 \r\nQ 24.171875 66.40625 20.328125 58.90625 \r\nQ 16.5 51.421875 16.5 36.375 \r\nQ 16.5 21.390625 20.328125 13.890625 \r\nQ 24.171875 6.390625 31.78125 6.390625 \r\nQ 39.453125 6.390625 43.28125 13.890625 \r\nQ 47.125 21.390625 47.125 36.375 \r\nQ 47.125 51.421875 43.28125 58.90625 \r\nQ 39.453125 66.40625 31.78125 66.40625 \r\nz\r\nM 31.78125 74.21875 \r\nQ 44.046875 74.21875 50.515625 64.515625 \r\nQ 56.984375 54.828125 56.984375 36.375 \r\nQ 56.984375 17.96875 50.515625 8.265625 \r\nQ 44.046875 -1.421875 31.78125 -1.421875 \r\nQ 19.53125 -1.421875 13.0625 8.265625 \r\nQ 6.59375 17.96875 6.59375 36.375 \r\nQ 6.59375 54.828125 13.0625 64.515625 \r\nQ 19.53125 74.21875 31.78125 74.21875 \r\nz\r\n\" id=\"DejaVuSans-48\"/>\r\n        <path d=\"M 10.6875 12.40625 \r\nL 21 12.40625 \r\nL 21 0 \r\nL 10.6875 0 \r\nz\r\n\" id=\"DejaVuSans-46\"/>\r\n       </defs>\r\n       <use xlink:href=\"#DejaVuSans-48\"/>\r\n       <use x=\"63.623047\" xlink:href=\"#DejaVuSans-46\"/>\r\n       <use x=\"95.410156\" xlink:href=\"#DejaVuSans-48\"/>\r\n      </g>\r\n     </g>\r\n    </g>\r\n    <g id=\"xtick_2\">\r\n     <g id=\"line2d_2\">\r\n      <g>\r\n       <use style=\"stroke:#000000;stroke-width:0.8;\" x=\"119.872159\" xlink:href=\"#m3d0c7fef7c\" y=\"239.758125\"/>\r\n      </g>\r\n     </g>\r\n     <g id=\"text_2\">\r\n      <!-- 0.2 -->\r\n      <g transform=\"translate(111.920597 254.356562)scale(0.1 -0.1)\">\r\n       <defs>\r\n        <path d=\"M 19.1875 8.296875 \r\nL 53.609375 8.296875 \r\nL 53.609375 0 \r\nL 7.328125 0 \r\nL 7.328125 8.296875 \r\nQ 12.9375 14.109375 22.625 23.890625 \r\nQ 32.328125 33.6875 34.8125 36.53125 \r\nQ 39.546875 41.84375 41.421875 45.53125 \r\nQ 43.3125 49.21875 43.3125 52.78125 \r\nQ 43.3125 58.59375 39.234375 62.25 \r\nQ 35.15625 65.921875 28.609375 65.921875 \r\nQ 23.96875 65.921875 18.8125 64.3125 \r\nQ 13.671875 62.703125 7.8125 59.421875 \r\nL 7.8125 69.390625 \r\nQ 13.765625 71.78125 18.9375 73 \r\nQ 24.125 74.21875 28.421875 74.21875 \r\nQ 39.75 74.21875 46.484375 68.546875 \r\nQ 53.21875 62.890625 53.21875 53.421875 \r\nQ 53.21875 48.921875 51.53125 44.890625 \r\nQ 49.859375 40.875 45.40625 35.40625 \r\nQ 44.1875 33.984375 37.640625 27.21875 \r\nQ 31.109375 20.453125 19.1875 8.296875 \r\nz\r\n\" id=\"DejaVuSans-50\"/>\r\n       </defs>\r\n       <use xlink:href=\"#DejaVuSans-48\"/>\r\n       <use x=\"63.623047\" xlink:href=\"#DejaVuSans-46\"/>\r\n       <use x=\"95.410156\" xlink:href=\"#DejaVuSans-50\"/>\r\n      </g>\r\n     </g>\r\n    </g>\r\n    <g id=\"xtick_3\">\r\n     <g id=\"line2d_3\">\r\n      <g>\r\n       <use style=\"stroke:#000000;stroke-width:0.8;\" x=\"180.744886\" xlink:href=\"#m3d0c7fef7c\" y=\"239.758125\"/>\r\n      </g>\r\n     </g>\r\n     <g id=\"text_3\">\r\n      <!-- 0.4 -->\r\n      <g transform=\"translate(172.793324 254.356562)scale(0.1 -0.1)\">\r\n       <defs>\r\n        <path d=\"M 37.796875 64.3125 \r\nL 12.890625 25.390625 \r\nL 37.796875 25.390625 \r\nz\r\nM 35.203125 72.90625 \r\nL 47.609375 72.90625 \r\nL 47.609375 25.390625 \r\nL 58.015625 25.390625 \r\nL 58.015625 17.1875 \r\nL 47.609375 17.1875 \r\nL 47.609375 0 \r\nL 37.796875 0 \r\nL 37.796875 17.1875 \r\nL 4.890625 17.1875 \r\nL 4.890625 26.703125 \r\nz\r\n\" id=\"DejaVuSans-52\"/>\r\n       </defs>\r\n       <use xlink:href=\"#DejaVuSans-48\"/>\r\n       <use x=\"63.623047\" xlink:href=\"#DejaVuSans-46\"/>\r\n       <use x=\"95.410156\" xlink:href=\"#DejaVuSans-52\"/>\r\n      </g>\r\n     </g>\r\n    </g>\r\n    <g id=\"xtick_4\">\r\n     <g id=\"line2d_4\">\r\n      <g>\r\n       <use style=\"stroke:#000000;stroke-width:0.8;\" x=\"241.617614\" xlink:href=\"#m3d0c7fef7c\" y=\"239.758125\"/>\r\n      </g>\r\n     </g>\r\n     <g id=\"text_4\">\r\n      <!-- 0.6 -->\r\n      <g transform=\"translate(233.666051 254.356562)scale(0.1 -0.1)\">\r\n       <defs>\r\n        <path d=\"M 33.015625 40.375 \r\nQ 26.375 40.375 22.484375 35.828125 \r\nQ 18.609375 31.296875 18.609375 23.390625 \r\nQ 18.609375 15.53125 22.484375 10.953125 \r\nQ 26.375 6.390625 33.015625 6.390625 \r\nQ 39.65625 6.390625 43.53125 10.953125 \r\nQ 47.40625 15.53125 47.40625 23.390625 \r\nQ 47.40625 31.296875 43.53125 35.828125 \r\nQ 39.65625 40.375 33.015625 40.375 \r\nz\r\nM 52.59375 71.296875 \r\nL 52.59375 62.3125 \r\nQ 48.875 64.0625 45.09375 64.984375 \r\nQ 41.3125 65.921875 37.59375 65.921875 \r\nQ 27.828125 65.921875 22.671875 59.328125 \r\nQ 17.53125 52.734375 16.796875 39.40625 \r\nQ 19.671875 43.65625 24.015625 45.921875 \r\nQ 28.375 48.1875 33.59375 48.1875 \r\nQ 44.578125 48.1875 50.953125 41.515625 \r\nQ 57.328125 34.859375 57.328125 23.390625 \r\nQ 57.328125 12.15625 50.6875 5.359375 \r\nQ 44.046875 -1.421875 33.015625 -1.421875 \r\nQ 20.359375 -1.421875 13.671875 8.265625 \r\nQ 6.984375 17.96875 6.984375 36.375 \r\nQ 6.984375 53.65625 15.1875 63.9375 \r\nQ 23.390625 74.21875 37.203125 74.21875 \r\nQ 40.921875 74.21875 44.703125 73.484375 \r\nQ 48.484375 72.75 52.59375 71.296875 \r\nz\r\n\" id=\"DejaVuSans-54\"/>\r\n       </defs>\r\n       <use xlink:href=\"#DejaVuSans-48\"/>\r\n       <use x=\"63.623047\" xlink:href=\"#DejaVuSans-46\"/>\r\n       <use x=\"95.410156\" xlink:href=\"#DejaVuSans-54\"/>\r\n      </g>\r\n     </g>\r\n    </g>\r\n    <g id=\"xtick_5\">\r\n     <g id=\"line2d_5\">\r\n      <g>\r\n       <use style=\"stroke:#000000;stroke-width:0.8;\" x=\"302.490341\" xlink:href=\"#m3d0c7fef7c\" y=\"239.758125\"/>\r\n      </g>\r\n     </g>\r\n     <g id=\"text_5\">\r\n      <!-- 0.8 -->\r\n      <g transform=\"translate(294.538778 254.356562)scale(0.1 -0.1)\">\r\n       <defs>\r\n        <path d=\"M 31.78125 34.625 \r\nQ 24.75 34.625 20.71875 30.859375 \r\nQ 16.703125 27.09375 16.703125 20.515625 \r\nQ 16.703125 13.921875 20.71875 10.15625 \r\nQ 24.75 6.390625 31.78125 6.390625 \r\nQ 38.8125 6.390625 42.859375 10.171875 \r\nQ 46.921875 13.96875 46.921875 20.515625 \r\nQ 46.921875 27.09375 42.890625 30.859375 \r\nQ 38.875 34.625 31.78125 34.625 \r\nz\r\nM 21.921875 38.8125 \r\nQ 15.578125 40.375 12.03125 44.71875 \r\nQ 8.5 49.078125 8.5 55.328125 \r\nQ 8.5 64.0625 14.71875 69.140625 \r\nQ 20.953125 74.21875 31.78125 74.21875 \r\nQ 42.671875 74.21875 48.875 69.140625 \r\nQ 55.078125 64.0625 55.078125 55.328125 \r\nQ 55.078125 49.078125 51.53125 44.71875 \r\nQ 48 40.375 41.703125 38.8125 \r\nQ 48.828125 37.15625 52.796875 32.3125 \r\nQ 56.78125 27.484375 56.78125 20.515625 \r\nQ 56.78125 9.90625 50.3125 4.234375 \r\nQ 43.84375 -1.421875 31.78125 -1.421875 \r\nQ 19.734375 -1.421875 13.25 4.234375 \r\nQ 6.78125 9.90625 6.78125 20.515625 \r\nQ 6.78125 27.484375 10.78125 32.3125 \r\nQ 14.796875 37.15625 21.921875 38.8125 \r\nz\r\nM 18.3125 54.390625 \r\nQ 18.3125 48.734375 21.84375 45.5625 \r\nQ 25.390625 42.390625 31.78125 42.390625 \r\nQ 38.140625 42.390625 41.71875 45.5625 \r\nQ 45.3125 48.734375 45.3125 54.390625 \r\nQ 45.3125 60.0625 41.71875 63.234375 \r\nQ 38.140625 66.40625 31.78125 66.40625 \r\nQ 25.390625 66.40625 21.84375 63.234375 \r\nQ 18.3125 60.0625 18.3125 54.390625 \r\nz\r\n\" id=\"DejaVuSans-56\"/>\r\n       </defs>\r\n       <use xlink:href=\"#DejaVuSans-48\"/>\r\n       <use x=\"63.623047\" xlink:href=\"#DejaVuSans-46\"/>\r\n       <use x=\"95.410156\" xlink:href=\"#DejaVuSans-56\"/>\r\n      </g>\r\n     </g>\r\n    </g>\r\n    <g id=\"xtick_6\">\r\n     <g id=\"line2d_6\">\r\n      <g>\r\n       <use style=\"stroke:#000000;stroke-width:0.8;\" x=\"363.363068\" xlink:href=\"#m3d0c7fef7c\" y=\"239.758125\"/>\r\n      </g>\r\n     </g>\r\n     <g id=\"text_6\">\r\n      <!-- 1.0 -->\r\n      <g transform=\"translate(355.411506 254.356562)scale(0.1 -0.1)\">\r\n       <defs>\r\n        <path d=\"M 12.40625 8.296875 \r\nL 28.515625 8.296875 \r\nL 28.515625 63.921875 \r\nL 10.984375 60.40625 \r\nL 10.984375 69.390625 \r\nL 28.421875 72.90625 \r\nL 38.28125 72.90625 \r\nL 38.28125 8.296875 \r\nL 54.390625 8.296875 \r\nL 54.390625 0 \r\nL 12.40625 0 \r\nz\r\n\" id=\"DejaVuSans-49\"/>\r\n       </defs>\r\n       <use xlink:href=\"#DejaVuSans-49\"/>\r\n       <use x=\"63.623047\" xlink:href=\"#DejaVuSans-46\"/>\r\n       <use x=\"95.410156\" xlink:href=\"#DejaVuSans-48\"/>\r\n      </g>\r\n     </g>\r\n    </g>\r\n    <g id=\"text_7\">\r\n     <!-- FPR -->\r\n     <g transform=\"translate(201.816406 268.034687)scale(0.1 -0.1)\">\r\n      <defs>\r\n       <path d=\"M 9.8125 72.90625 \r\nL 51.703125 72.90625 \r\nL 51.703125 64.59375 \r\nL 19.671875 64.59375 \r\nL 19.671875 43.109375 \r\nL 48.578125 43.109375 \r\nL 48.578125 34.8125 \r\nL 19.671875 34.8125 \r\nL 19.671875 0 \r\nL 9.8125 0 \r\nz\r\n\" id=\"DejaVuSans-70\"/>\r\n       <path d=\"M 19.671875 64.796875 \r\nL 19.671875 37.40625 \r\nL 32.078125 37.40625 \r\nQ 38.96875 37.40625 42.71875 40.96875 \r\nQ 46.484375 44.53125 46.484375 51.125 \r\nQ 46.484375 57.671875 42.71875 61.234375 \r\nQ 38.96875 64.796875 32.078125 64.796875 \r\nz\r\nM 9.8125 72.90625 \r\nL 32.078125 72.90625 \r\nQ 44.34375 72.90625 50.609375 67.359375 \r\nQ 56.890625 61.8125 56.890625 51.125 \r\nQ 56.890625 40.328125 50.609375 34.8125 \r\nQ 44.34375 29.296875 32.078125 29.296875 \r\nL 19.671875 29.296875 \r\nL 19.671875 0 \r\nL 9.8125 0 \r\nz\r\n\" id=\"DejaVuSans-80\"/>\r\n       <path d=\"M 44.390625 34.1875 \r\nQ 47.5625 33.109375 50.5625 29.59375 \r\nQ 53.5625 26.078125 56.59375 19.921875 \r\nL 66.609375 0 \r\nL 56 0 \r\nL 46.6875 18.703125 \r\nQ 43.0625 26.03125 39.671875 28.421875 \r\nQ 36.28125 30.8125 30.421875 30.8125 \r\nL 19.671875 30.8125 \r\nL 19.671875 0 \r\nL 9.8125 0 \r\nL 9.8125 72.90625 \r\nL 32.078125 72.90625 \r\nQ 44.578125 72.90625 50.734375 67.671875 \r\nQ 56.890625 62.453125 56.890625 51.90625 \r\nQ 56.890625 45.015625 53.6875 40.46875 \r\nQ 50.484375 35.9375 44.390625 34.1875 \r\nz\r\nM 19.671875 64.796875 \r\nL 19.671875 38.921875 \r\nL 32.078125 38.921875 \r\nQ 39.203125 38.921875 42.84375 42.21875 \r\nQ 46.484375 45.515625 46.484375 51.90625 \r\nQ 46.484375 58.296875 42.84375 61.546875 \r\nQ 39.203125 64.796875 32.078125 64.796875 \r\nz\r\n\" id=\"DejaVuSans-82\"/>\r\n      </defs>\r\n      <use xlink:href=\"#DejaVuSans-70\"/>\r\n      <use x=\"57.519531\" xlink:href=\"#DejaVuSans-80\"/>\r\n      <use x=\"117.822266\" xlink:href=\"#DejaVuSans-82\"/>\r\n     </g>\r\n    </g>\r\n   </g>\r\n   <g id=\"matplotlib.axis_2\">\r\n    <g id=\"ytick_1\">\r\n     <g id=\"line2d_7\">\r\n      <defs>\r\n       <path d=\"M 0 0 \r\nL -3.5 0 \r\n\" id=\"m24168f6e05\" style=\"stroke:#000000;stroke-width:0.8;\"/>\r\n      </defs>\r\n      <g>\r\n       <use style=\"stroke:#000000;stroke-width:0.8;\" x=\"43.78125\" xlink:href=\"#m24168f6e05\" y=\"229.874489\"/>\r\n      </g>\r\n     </g>\r\n     <g id=\"text_8\">\r\n      <!-- 0.0 -->\r\n      <g transform=\"translate(20.878125 233.673707)scale(0.1 -0.1)\">\r\n       <use xlink:href=\"#DejaVuSans-48\"/>\r\n       <use x=\"63.623047\" xlink:href=\"#DejaVuSans-46\"/>\r\n       <use x=\"95.410156\" xlink:href=\"#DejaVuSans-48\"/>\r\n      </g>\r\n     </g>\r\n    </g>\r\n    <g id=\"ytick_2\">\r\n     <g id=\"line2d_8\">\r\n      <g>\r\n       <use style=\"stroke:#000000;stroke-width:0.8;\" x=\"43.78125\" xlink:href=\"#m24168f6e05\" y=\"190.339943\"/>\r\n      </g>\r\n     </g>\r\n     <g id=\"text_9\">\r\n      <!-- 0.2 -->\r\n      <g transform=\"translate(20.878125 194.139162)scale(0.1 -0.1)\">\r\n       <use xlink:href=\"#DejaVuSans-48\"/>\r\n       <use x=\"63.623047\" xlink:href=\"#DejaVuSans-46\"/>\r\n       <use x=\"95.410156\" xlink:href=\"#DejaVuSans-50\"/>\r\n      </g>\r\n     </g>\r\n    </g>\r\n    <g id=\"ytick_3\">\r\n     <g id=\"line2d_9\">\r\n      <g>\r\n       <use style=\"stroke:#000000;stroke-width:0.8;\" x=\"43.78125\" xlink:href=\"#m24168f6e05\" y=\"150.805398\"/>\r\n      </g>\r\n     </g>\r\n     <g id=\"text_10\">\r\n      <!-- 0.4 -->\r\n      <g transform=\"translate(20.878125 154.604616)scale(0.1 -0.1)\">\r\n       <use xlink:href=\"#DejaVuSans-48\"/>\r\n       <use x=\"63.623047\" xlink:href=\"#DejaVuSans-46\"/>\r\n       <use x=\"95.410156\" xlink:href=\"#DejaVuSans-52\"/>\r\n      </g>\r\n     </g>\r\n    </g>\r\n    <g id=\"ytick_4\">\r\n     <g id=\"line2d_10\">\r\n      <g>\r\n       <use style=\"stroke:#000000;stroke-width:0.8;\" x=\"43.78125\" xlink:href=\"#m24168f6e05\" y=\"111.270852\"/>\r\n      </g>\r\n     </g>\r\n     <g id=\"text_11\">\r\n      <!-- 0.6 -->\r\n      <g transform=\"translate(20.878125 115.070071)scale(0.1 -0.1)\">\r\n       <use xlink:href=\"#DejaVuSans-48\"/>\r\n       <use x=\"63.623047\" xlink:href=\"#DejaVuSans-46\"/>\r\n       <use x=\"95.410156\" xlink:href=\"#DejaVuSans-54\"/>\r\n      </g>\r\n     </g>\r\n    </g>\r\n    <g id=\"ytick_5\">\r\n     <g id=\"line2d_11\">\r\n      <g>\r\n       <use style=\"stroke:#000000;stroke-width:0.8;\" x=\"43.78125\" xlink:href=\"#m24168f6e05\" y=\"71.736307\"/>\r\n      </g>\r\n     </g>\r\n     <g id=\"text_12\">\r\n      <!-- 0.8 -->\r\n      <g transform=\"translate(20.878125 75.535526)scale(0.1 -0.1)\">\r\n       <use xlink:href=\"#DejaVuSans-48\"/>\r\n       <use x=\"63.623047\" xlink:href=\"#DejaVuSans-46\"/>\r\n       <use x=\"95.410156\" xlink:href=\"#DejaVuSans-56\"/>\r\n      </g>\r\n     </g>\r\n    </g>\r\n    <g id=\"ytick_6\">\r\n     <g id=\"line2d_12\">\r\n      <g>\r\n       <use style=\"stroke:#000000;stroke-width:0.8;\" x=\"43.78125\" xlink:href=\"#m24168f6e05\" y=\"32.201761\"/>\r\n      </g>\r\n     </g>\r\n     <g id=\"text_13\">\r\n      <!-- 1.0 -->\r\n      <g transform=\"translate(20.878125 36.00098)scale(0.1 -0.1)\">\r\n       <use xlink:href=\"#DejaVuSans-49\"/>\r\n       <use x=\"63.623047\" xlink:href=\"#DejaVuSans-46\"/>\r\n       <use x=\"95.410156\" xlink:href=\"#DejaVuSans-48\"/>\r\n      </g>\r\n     </g>\r\n    </g>\r\n    <g id=\"text_14\">\r\n     <!-- TPR -->\r\n     <g transform=\"translate(14.798438 140.581094)rotate(-90)scale(0.1 -0.1)\">\r\n      <defs>\r\n       <path d=\"M -0.296875 72.90625 \r\nL 61.375 72.90625 \r\nL 61.375 64.59375 \r\nL 35.5 64.59375 \r\nL 35.5 0 \r\nL 25.59375 0 \r\nL 25.59375 64.59375 \r\nL -0.296875 64.59375 \r\nz\r\n\" id=\"DejaVuSans-84\"/>\r\n      </defs>\r\n      <use xlink:href=\"#DejaVuSans-84\"/>\r\n      <use x=\"61.083984\" xlink:href=\"#DejaVuSans-80\"/>\r\n      <use x=\"121.386719\" xlink:href=\"#DejaVuSans-82\"/>\r\n     </g>\r\n    </g>\r\n   </g>\r\n   <g id=\"line2d_13\">\r\n    <path clip-path=\"url(#p670c795679)\" d=\"M 58.999432 229.874489 \r\nL 59.10934 219.048537 \r\nL 59.123079 219.048537 \r\nL 59.232987 215.084104 \r\nL 59.246726 215.084104 \r\nL 59.356634 211.05868 \r\nL 59.39785 210.967193 \r\nL 59.507758 204.075179 \r\nL 59.521496 204.075179 \r\nL 59.631405 202.123458 \r\nL 59.645143 202.123458 \r\nL 59.755052 198.982407 \r\nL 59.796267 198.921416 \r\nL 59.892437 196.939199 \r\nL 59.919914 196.939199 \r\nL 60.029822 195.627887 \r\nL 60.043561 195.627887 \r\nL 60.139731 193.706662 \r\nL 60.180946 193.64567 \r\nL 60.290855 192.120888 \r\nL 60.318332 192.029402 \r\nL 60.42824 189.742229 \r\nL 60.441979 189.742229 \r\nL 60.551887 188.705377 \r\nL 60.565625 188.705377 \r\nL 60.675534 187.302578 \r\nL 60.716749 187.272082 \r\nL 60.826658 185.869283 \r\nL 60.840396 185.869283 \r\nL 60.936566 184.954413 \r\nL 60.99152 184.862927 \r\nL 61.101429 182.514762 \r\nL 61.128906 182.423275 \r\nL 61.238814 181.721876 \r\nL 61.252553 181.721876 \r\nL 61.362461 179.648172 \r\nL 61.376199 179.648172 \r\nL 61.486108 179.160242 \r\nL 61.513585 179.068755 \r\nL 61.623493 177.696452 \r\nL 61.637232 177.696452 \r\nL 61.74714 177.117034 \r\nL 61.774617 177.086539 \r\nL 61.870787 176.232661 \r\nL 61.925741 176.141174 \r\nL 62.035649 175.287296 \r\nL 62.104342 175.226305 \r\nL 62.21425 173.854001 \r\nL 62.227989 173.854001 \r\nL 62.337897 172.420706 \r\nL 62.379113 172.39021 \r\nL 62.489021 171.62782 \r\nL 62.557714 171.597324 \r\nL 62.667622 170.255516 \r\nL 62.708838 170.255516 \r\nL 62.805008 169.218664 \r\nL 62.8737 169.157673 \r\nL 62.983609 168.669743 \r\nL 62.997347 168.669743 \r\nL 63.107256 166.992483 \r\nL 63.120994 166.992483 \r\nL 63.230902 166.077613 \r\nL 63.244641 166.077613 \r\nL 63.340811 164.766301 \r\nL 63.368288 164.766301 \r\nL 63.478196 163.363502 \r\nL 63.519412 163.363502 \r\nL 63.601843 162.967058 \r\nL 63.656797 162.967058 \r\nL 63.752967 162.357146 \r\nL 63.807921 162.265659 \r\nL 63.917829 161.808224 \r\nL 63.959045 161.808224 \r\nL 64.068953 161.13732 \r\nL 64.082692 161.13732 \r\nL 64.1926 160.008981 \r\nL 64.220077 160.008981 \r\nL 64.329986 159.094112 \r\nL 64.343724 159.094112 \r\nL 64.439894 158.331721 \r\nL 64.508587 158.240234 \r\nL 64.618495 157.813295 \r\nL 64.659711 157.721808 \r\nL 64.769619 157.142391 \r\nL 64.797096 157.0814 \r\nL 64.907004 155.89207 \r\nL 64.989436 155.800583 \r\nL 65.099344 155.465131 \r\nL 65.126821 155.373644 \r\nL 65.236729 154.763732 \r\nL 65.305422 154.672245 \r\nL 65.41533 154.092828 \r\nL 65.442808 154.092828 \r\nL 65.552716 153.604897 \r\nL 65.580193 153.604897 \r\nL 65.690101 152.903498 \r\nL 65.717578 152.873002 \r\nL 65.827487 152.110611 \r\nL 65.868702 152.019124 \r\nL 65.978611 151.470203 \r\nL 66.019826 151.378716 \r\nL 66.115996 150.799299 \r\nL 66.157212 150.799299 \r\nL 66.26712 150.463847 \r\nL 66.335813 150.37236 \r\nL 66.431982 149.884429 \r\nL 66.473198 149.792943 \r\nL 66.569368 149.244021 \r\nL 66.624322 149.152534 \r\nL 66.73423 148.634108 \r\nL 66.775446 148.542621 \r\nL 66.885354 147.902213 \r\nL 66.995263 147.841222 \r\nL 67.105171 147.475274 \r\nL 67.187602 147.383787 \r\nL 67.297511 146.80437 \r\nL 67.338726 146.773874 \r\nL 67.448635 146.011483 \r\nL 67.517327 145.919996 \r\nL 67.613497 145.371075 \r\nL 67.668451 145.279588 \r\nL 67.764621 144.974632 \r\nL 67.805837 144.974632 \r\nL 67.915745 144.334223 \r\nL 67.984438 144.242736 \r\nL 68.066869 143.602328 \r\nL 68.217993 143.510841 \r\nL 68.327901 142.931424 \r\nL 68.382855 142.870433 \r\nL 68.492764 141.986059 \r\nL 68.520241 141.925068 \r\nL 68.602672 141.681103 \r\nL 68.685103 141.650607 \r\nL 68.795012 141.254164 \r\nL 68.836227 141.223668 \r\nL 68.90492 141.040694 \r\nL 69.00109 140.949207 \r\nL 69.056044 140.674747 \r\nL 69.152214 140.58326 \r\nL 69.248383 140.247808 \r\nL 69.317076 140.156321 \r\nL 69.413246 139.790373 \r\nL 69.4682 139.729382 \r\nL 69.578108 138.997487 \r\nL 69.605585 138.966991 \r\nL 69.715494 138.631539 \r\nL 69.742971 138.631539 \r\nL 69.825402 138.143609 \r\nL 69.894095 138.113113 \r\nL 70.004003 137.777661 \r\nL 70.086434 137.686174 \r\nL 70.196343 137.472705 \r\nL 70.237558 137.442209 \r\nL 70.333728 136.893288 \r\nL 70.471114 136.801801 \r\nL 70.567283 136.374862 \r\nL 70.649715 136.31387 \r\nL 70.745884 135.856436 \r\nL 70.814577 135.856436 \r\nL 70.910747 135.673462 \r\nL 71.034394 135.612471 \r\nL 71.144302 134.880575 \r\nL 71.199256 134.789089 \r\nL 71.295426 134.331654 \r\nL 71.35038 134.240167 \r\nL 71.460288 133.782732 \r\nL 71.501504 133.691246 \r\nL 71.597674 133.386289 \r\nL 71.638889 133.294802 \r\nL 71.693844 132.989846 \r\nL 71.790013 132.95935 \r\nL 71.858706 132.501916 \r\nL 71.91366 132.501916 \r\nL 72.023569 131.892003 \r\nL 72.078523 131.831012 \r\nL 72.174693 131.648038 \r\nL 72.243385 131.556551 \r\nL 72.353294 130.977134 \r\nL 72.380771 130.946638 \r\nL 72.490679 130.458708 \r\nL 72.559372 130.397717 \r\nL 72.66928 130.123256 \r\nL 72.737973 130.09276 \r\nL 72.834143 129.665821 \r\nL 72.86162 129.665821 \r\nL 72.944051 129.330369 \r\nL 73.053959 129.238882 \r\nL 73.108913 128.994917 \r\nL 73.177606 128.994917 \r\nL 73.287514 128.62897 \r\nL 73.314991 128.567978 \r\nL 73.411161 128.263022 \r\nL 73.576024 128.171535 \r\nL 73.672194 127.958066 \r\nL 73.699671 127.958066 \r\nL 73.754625 127.744596 \r\nL 73.850795 127.653109 \r\nL 73.960703 127.409144 \r\nL 74.001919 127.317657 \r\nL 74.098088 127.104188 \r\nL 74.125565 127.104188 \r\nL 74.207997 126.829727 \r\nL 74.290428 126.73824 \r\nL 74.400336 126.616257 \r\nL 74.469029 126.555266 \r\nL 74.578937 126.097832 \r\nL 74.633891 126.006345 \r\nL 74.7438 125.884362 \r\nL 74.853708 125.792875 \r\nL 74.949878 125.487919 \r\nL 75.018571 125.396432 \r\nL 75.128479 125.213458 \r\nL 75.169695 125.121971 \r\nL 75.265864 124.878006 \r\nL 75.334557 124.817015 \r\nL 75.444465 124.390076 \r\nL 75.526897 124.298589 \r\nL 75.623066 123.993633 \r\nL 75.746713 123.902146 \r\nL 75.856622 123.505702 \r\nL 75.952791 123.414215 \r\nL 76.035223 123.109259 \r\nL 76.131392 123.017772 \r\nL 76.186347 122.834798 \r\nL 76.282516 122.804303 \r\nL 76.378686 122.590833 \r\nL 76.516072 122.499346 \r\nL 76.62598 122.19439 \r\nL 76.667195 122.163894 \r\nL 76.777104 121.736955 \r\nL 76.859535 121.645468 \r\nL 76.955705 121.401503 \r\nL 77.038136 121.310016 \r\nL 77.134306 120.883077 \r\nL 77.230476 120.791591 \r\nL 77.299168 120.700104 \r\nL 77.367861 120.608617 \r\nL 77.477769 120.181678 \r\nL 77.546462 120.090191 \r\nL 77.65637 119.632756 \r\nL 77.738802 119.541269 \r\nL 77.834971 119.053339 \r\nL 77.958618 118.961852 \r\nL 78.068527 118.748383 \r\nL 78.178435 118.687392 \r\nL 78.288343 118.504418 \r\nL 78.343297 118.412931 \r\nL 78.453206 118.199461 \r\nL 78.494421 118.199461 \r\nL 78.576853 117.985992 \r\nL 78.755454 117.894505 \r\nL 78.851624 117.498062 \r\nL 78.892839 117.43707 \r\nL 79.002747 117.132114 \r\nL 79.043963 117.040627 \r\nL 79.098917 116.766166 \r\nL 79.222564 116.766166 \r\nL 79.304995 116.186749 \r\nL 79.401165 116.125758 \r\nL 79.469858 115.912288 \r\nL 79.566028 115.881793 \r\nL 79.662197 115.576836 \r\nL 79.785844 115.515845 \r\nL 79.895753 115.332871 \r\nL 80.101831 115.241384 \r\nL 80.211739 114.997419 \r\nL 80.280432 114.905932 \r\nL 80.376602 114.631472 \r\nL 80.445294 114.539985 \r\nL 80.541464 114.113046 \r\nL 80.706327 114.021559 \r\nL 80.706327 113.930072 \r\nL 80.843712 113.838585 \r\nL 80.95362 113.686107 \r\nL 81.063529 113.59462 \r\nL 81.077267 113.442142 \r\nL 81.310822 113.350655 \r\nL 81.420731 113.167681 \r\nL 81.5169 113.076194 \r\nL 81.626809 112.954212 \r\nL 81.70924 112.862725 \r\nL 81.80541 112.740742 \r\nL 81.846625 112.710246 \r\nL 81.956534 112.374794 \r\nL 82.190089 112.283307 \r\nL 82.299997 112.039342 \r\nL 82.437383 111.947855 \r\nL 82.533552 111.764882 \r\nL 82.643461 111.673395 \r\nL 82.753369 111.185464 \r\nL 82.890755 111.093978 \r\nL 82.986924 110.819517 \r\nL 83.110571 110.72803 \r\nL 83.206741 110.606047 \r\nL 83.385342 110.51456 \r\nL 83.49525 110.148613 \r\nL 83.632636 110.057126 \r\nL 83.701328 109.813161 \r\nL 83.866191 109.752169 \r\nL 83.907407 109.5387 \r\nL 84.044792 109.447213 \r\nL 84.127223 109.325231 \r\nL 84.195916 109.233744 \r\nL 84.292086 109.05077 \r\nL 84.360778 108.989779 \r\nL 84.470687 108.806805 \r\nL 84.525641 108.745813 \r\nL 84.621811 108.532344 \r\nL 84.827889 108.440857 \r\nL 84.91032 108.34937 \r\nL 85.047705 108.257883 \r\nL 85.157614 108.044414 \r\nL 85.240045 107.983422 \r\nL 85.349953 107.830944 \r\nL 85.404908 107.830944 \r\nL 85.501077 107.37351 \r\nL 85.597247 107.312518 \r\nL 85.707155 107.007562 \r\nL 85.803325 106.916075 \r\nL 85.913234 106.702606 \r\nL 85.995665 106.611119 \r\nL 86.105573 106.428145 \r\nL 86.160527 106.397649 \r\nL 86.22922 106.245171 \r\nL 86.297913 106.18418 \r\nL 86.394082 105.726745 \r\nL 86.517729 105.635258 \r\nL 86.586422 105.360798 \r\nL 86.7925 105.299806 \r\nL 86.902409 105.086337 \r\nL 87.026055 104.99485 \r\nL 87.135964 104.903363 \r\nL 87.232133 104.842372 \r\nL 87.328303 104.598407 \r\nL 87.410735 104.50692 \r\nL 87.45195 104.384937 \r\nL 87.616813 104.29345 \r\nL 87.726721 103.988494 \r\nL 87.877845 103.897007 \r\nL 87.974015 103.744529 \r\nL 88.042707 103.714033 \r\nL 88.138877 103.439572 \r\nL 88.235047 103.348085 \r\nL 88.30374 103.195607 \r\nL 88.564772 103.10412 \r\nL 88.660942 102.890651 \r\nL 88.921974 102.799164 \r\nL 89.031882 102.555199 \r\nL 89.059359 102.524703 \r\nL 89.169268 102.158756 \r\nL 89.279176 102.067269 \r\nL 89.347869 101.975782 \r\nL 89.581424 101.884295 \r\nL 89.691332 101.487852 \r\nL 89.732548 101.396365 \r\nL 89.801241 101.243886 \r\nL 90.034796 101.152399 \r\nL 90.103489 100.877939 \r\nL 90.378259 100.786452 \r\nL 90.460691 100.572982 \r\nL 90.570599 100.542487 \r\nL 90.625553 100.390009 \r\nL 90.776677 100.298522 \r\nL 90.886585 100.207035 \r\nL 90.927801 100.176539 \r\nL 90.969017 99.902078 \r\nL 91.188833 99.810591 \r\nL 91.285003 99.627618 \r\nL 91.353696 99.536131 \r\nL 91.463604 99.109192 \r\nL 91.532297 99.017705 \r\nL 91.628467 98.743244 \r\nL 91.710898 98.682253 \r\nL 91.820806 98.56027 \r\nL 91.916976 98.468783 \r\nL 91.985669 98.346801 \r\nL 92.123054 98.255314 \r\nL 92.232962 97.980853 \r\nL 92.287917 97.889366 \r\nL 92.397825 97.706392 \r\nL 92.439041 97.645401 \r\nL 92.53521 97.37094 \r\nL 92.686334 97.279453 \r\nL 92.796243 97.035488 \r\nL 92.892412 97.004993 \r\nL 92.988582 96.700036 \r\nL 93.029798 96.700036 \r\nL 93.139706 96.303593 \r\nL 93.235876 96.273097 \r\nL 93.318307 95.937645 \r\nL 93.469431 95.846158 \r\nL 93.551862 95.632689 \r\nL 93.620555 95.571698 \r\nL 93.689248 95.449715 \r\nL 93.85411 95.388724 \r\nL 93.936541 95.20575 \r\nL 93.977757 95.20575 \r\nL 94.060188 94.870298 \r\nL 94.238789 94.809307 \r\nL 94.334959 94.687324 \r\nL 94.403652 94.595837 \r\nL 94.51356 94.321377 \r\nL 94.60973 94.22989 \r\nL 94.650946 94.138403 \r\nL 94.898239 94.046916 \r\nL 94.898239 94.01642 \r\nL 94.953194 94.01642 \r\nL 95.145533 93.924933 \r\nL 95.227964 93.741959 \r\nL 95.296657 93.680968 \r\nL 95.392827 93.52849 \r\nL 95.585166 93.437003 \r\nL 95.667598 93.284525 \r\nL 95.777506 93.193038 \r\nL 95.873676 93.04056 \r\nL 96.011061 92.949073 \r\nL 96.093492 92.613621 \r\nL 96.175924 92.522134 \r\nL 96.285832 92.369656 \r\nL 96.464433 92.308664 \r\nL 96.464433 92.247673 \r\nL 96.697988 92.156186 \r\nL 96.766681 92.064699 \r\nL 96.95902 91.973212 \r\nL 97.068929 91.698752 \r\nL 97.329961 91.607265 \r\nL 97.412392 91.424291 \r\nL 97.508562 91.332804 \r\nL 97.61847 91.088839 \r\nL 97.755856 90.997352 \r\nL 97.852026 90.783882 \r\nL 97.975673 90.692396 \r\nL 97.975673 90.6619 \r\nL 98.168012 90.570413 \r\nL 98.250443 90.478926 \r\nL 98.442783 90.387439 \r\nL 98.538953 90.17397 \r\nL 98.786246 90.082483 \r\nL 98.841201 90.021492 \r\nL 98.951109 89.9605 \r\nL 99.061017 89.716535 \r\nL 99.102233 89.625048 \r\nL 99.212141 89.47257 \r\nL 99.404481 89.381083 \r\nL 99.459435 89.228605 \r\nL 99.610559 89.137118 \r\nL 99.651775 89.045631 \r\nL 99.747944 89.015135 \r\nL 99.802898 88.832162 \r\nL 99.940284 88.740675 \r\nL 100.036454 88.588197 \r\nL 100.187578 88.49671 \r\nL 100.25627 88.435718 \r\nL 100.421133 88.374727 \r\nL 100.503564 88.191753 \r\nL 100.599734 88.100266 \r\nL 100.682165 87.978284 \r\nL 100.764596 87.886797 \r\nL 100.874505 87.703823 \r\nL 101.025629 87.642832 \r\nL 101.094321 87.490354 \r\nL 101.259184 87.398867 \r\nL 101.314138 87.185397 \r\nL 101.451523 87.09391 \r\nL 101.547693 86.849945 \r\nL 101.836203 86.758458 \r\nL 101.836203 86.697467 \r\nL 102.056019 86.636476 \r\nL 102.097235 86.453502 \r\nL 102.317051 86.362015 \r\nL 102.413221 86.209537 \r\nL 102.481914 86.209537 \r\nL 102.550607 85.996067 \r\nL 102.921547 85.965572 \r\nL 103.031456 85.782598 \r\nL 103.347442 85.691111 \r\nL 103.443612 85.599624 \r\nL 103.498566 85.508137 \r\nL 103.608474 85.264172 \r\nL 103.732121 85.172685 \r\nL 103.828291 84.867729 \r\nL 103.924461 84.776242 \r\nL 104.006892 84.684755 \r\nL 104.21297 84.593268 \r\nL 104.322878 84.318807 \r\nL 104.419048 84.257816 \r\nL 104.528957 84.105338 \r\nL 104.652603 84.013851 \r\nL 104.707558 83.922364 \r\nL 104.886159 83.830877 \r\nL 104.941113 83.708894 \r\nL 105.06476 83.617407 \r\nL 105.174668 83.495425 \r\nL 105.284576 83.434434 \r\nL 105.380746 83.25146 \r\nL 105.421962 83.159973 \r\nL 105.490654 83.03799 \r\nL 105.682994 82.976999 \r\nL 105.792902 82.76353 \r\nL 105.930288 82.672043 \r\nL 105.944026 82.580556 \r\nL 106.108889 82.489069 \r\nL 106.19132 82.367086 \r\nL 106.314967 82.275599 \r\nL 106.424875 82.184112 \r\nL 106.534784 82.123121 \r\nL 106.603476 81.787669 \r\nL 106.823293 81.726678 \r\nL 106.905724 81.513208 \r\nL 107.084325 81.421722 \r\nL 107.194233 81.238748 \r\nL 107.441527 81.147261 \r\nL 107.537697 80.903296 \r\nL 107.839945 80.811809 \r\nL 107.949853 80.598339 \r\nL 108.046023 80.506852 \r\nL 108.142193 80.354374 \r\nL 108.362009 80.262887 \r\nL 108.403225 80.1714 \r\nL 108.609303 80.110409 \r\nL 108.609303 80.049418 \r\nL 108.82912 79.988427 \r\nL 108.939028 79.805453 \r\nL 109.117629 79.713966 \r\nL 109.172583 79.622479 \r\nL 109.323707 79.530992 \r\nL 109.433616 79.317522 \r\nL 109.680909 79.226036 \r\nL 109.790818 79.043062 \r\nL 109.85951 78.951575 \r\nL 109.969419 78.799097 \r\nL 110.175497 78.70761 \r\nL 110.202974 78.585627 \r\nL 110.395314 78.49414 \r\nL 110.395314 78.463645 \r\nL 110.51896 78.463645 \r\nL 110.628869 78.189184 \r\nL 110.821208 78.128193 \r\nL 110.931117 78.036706 \r\nL 111.095979 77.945219 \r\nL 111.137195 77.853732 \r\nL 111.233365 77.823236 \r\nL 111.343273 77.579271 \r\nL 111.549351 77.487784 \r\nL 111.618044 77.396297 \r\nL 111.810383 77.30481 \r\nL 111.810383 77.274315 \r\nL 112.057677 77.182828 \r\nL 112.057677 77.091341 \r\nL 112.387402 76.999854 \r\nL 112.49731 76.81688 \r\nL 112.620957 76.725393 \r\nL 112.703388 76.572915 \r\nL 112.78582 76.481428 \r\nL 112.868251 76.32895 \r\nL 112.964421 76.237463 \r\nL 113.074329 76.11548 \r\nL 113.129283 76.023994 \r\nL 113.197976 75.932507 \r\nL 113.280407 75.902011 \r\nL 113.335361 75.719037 \r\nL 113.871164 75.62755 \r\nL 113.967334 75.475072 \r\nL 114.187151 75.414081 \r\nL 114.297059 75.292098 \r\nL 114.530614 75.200611 \r\nL 114.613046 75.13962 \r\nL 114.777908 75.078629 \r\nL 114.846601 74.895655 \r\nL 115.107633 74.865159 \r\nL 115.190064 74.560203 \r\nL 115.478574 74.468716 \r\nL 115.547266 74.194255 \r\nL 115.69839 74.133264 \r\nL 115.69839 74.072273 \r\nL 115.863253 74.011281 \r\nL 115.89073 73.889299 \r\nL 116.151762 73.828308 \r\nL 116.220455 73.736821 \r\nL 116.45401 73.675829 \r\nL 116.563918 73.340377 \r\nL 116.673827 73.24889 \r\nL 116.783735 73.004925 \r\nL 117.072244 72.913438 \r\nL 117.168414 72.821952 \r\nL 117.319538 72.76096 \r\nL 117.401969 72.638978 \r\nL 117.635525 72.547491 \r\nL 117.690479 72.395013 \r\nL 118.020204 72.303526 \r\nL 118.116374 72.090056 \r\nL 118.33619 71.998569 \r\nL 118.43236 71.907082 \r\nL 118.597222 71.815595 \r\nL 118.679654 71.754604 \r\nL 118.789562 71.663117 \r\nL 118.871993 71.480143 \r\nL 119.023117 71.388657 \r\nL 119.023117 71.358161 \r\nL 119.490228 71.266674 \r\nL 119.545182 71.175187 \r\nL 119.737521 71.0837 \r\nL 119.833691 70.900726 \r\nL 119.929861 70.839735 \r\nL 119.929861 70.778744 \r\nL 120.149678 70.687257 \r\nL 120.190893 70.565274 \r\nL 120.451926 70.473787 \r\nL 120.451926 70.443292 \r\nL 120.712958 70.351805 \r\nL 120.712958 70.260318 \r\nL 121.056421 70.168831 \r\nL 121.16633 69.924866 \r\nL 121.344931 69.833379 \r\nL 121.454839 69.711396 \r\nL 121.53727 69.61991 \r\nL 121.605963 69.528423 \r\nL 121.702133 69.436936 \r\nL 121.812041 69.314953 \r\nL 121.82578 69.314953 \r\nL 121.894472 69.131979 \r\nL 122.279151 69.040492 \r\nL 122.375321 68.888014 \r\nL 122.650092 68.796527 \r\nL 122.718785 68.613553 \r\nL 123.089725 68.552562 \r\nL 123.103464 68.461075 \r\nL 123.446927 68.369588 \r\nL 123.446927 68.339093 \r\nL 123.666744 68.247606 \r\nL 123.749175 68.156119 \r\nL 124.17507 68.064632 \r\nL 124.188809 68.003641 \r\nL 124.436102 67.912154 \r\nL 124.518534 67.820667 \r\nL 124.765827 67.759676 \r\nL 124.861997 67.485215 \r\nL 125.260415 67.393728 \r\nL 125.356585 67.332737 \r\nL 125.521447 67.271745 \r\nL 125.617617 67.180258 \r\nL 125.782479 67.088772 \r\nL 125.782479 67.058276 \r\nL 126.139681 66.966789 \r\nL 126.222113 66.875302 \r\nL 126.373237 66.783815 \r\nL 126.483145 66.661833 \r\nL 127.00521 66.570346 \r\nL 127.00521 66.53985 \r\nL 127.266242 66.448363 \r\nL 127.362412 66.356876 \r\nL 127.554751 66.295885 \r\nL 127.554751 66.173902 \r\nL 127.898215 66.082415 \r\nL 127.994385 65.990929 \r\nL 128.241678 65.929937 \r\nL 128.282894 65.777459 \r\nL 128.708789 65.685972 \r\nL 128.818697 65.533494 \r\nL 128.928605 65.442007 \r\nL 128.928605 65.411511 \r\nL 129.148422 65.320025 \r\nL 129.25833 65.198042 \r\nL 129.464408 65.137051 \r\nL 129.574317 64.984573 \r\nL 129.904042 64.893086 \r\nL 130.000211 64.801599 \r\nL 130.302459 64.710112 \r\nL 130.398629 64.618625 \r\nL 130.536015 64.527138 \r\nL 130.57723 64.466147 \r\nL 130.934432 64.37466 \r\nL 131.044341 64.191686 \r\nL 131.099295 64.130695 \r\nL 131.167987 63.947721 \r\nL 131.703791 63.856234 \r\nL 131.745006 63.734251 \r\nL 132.033516 63.642764 \r\nL 132.143424 63.520782 \r\nL 132.349502 63.429295 \r\nL 132.431933 63.276817 \r\nL 132.692966 63.18533 \r\nL 132.802874 63.124339 \r\nL 133.063906 63.032852 \r\nL 133.146337 62.880373 \r\nL 133.476062 62.788887 \r\nL 133.558494 62.666904 \r\nL 133.654663 62.605913 \r\nL 133.764572 62.453435 \r\nL 133.956911 62.392443 \r\nL 134.025604 62.239965 \r\nL 134.561407 62.148478 \r\nL 134.616361 62.026496 \r\nL 134.987302 61.935009 \r\nL 135.083472 61.813026 \r\nL 135.371981 61.721539 \r\nL 135.454412 61.599557 \r\nL 135.646752 61.50807 \r\nL 135.742922 61.416583 \r\nL 135.935261 61.355592 \r\nL 136.031431 61.264105 \r\nL 136.553496 61.172618 \r\nL 136.567234 61.111626 \r\nL 136.828266 61.050635 \r\nL 136.938175 60.715183 \r\nL 137.199207 60.623696 \r\nL 137.309115 60.532209 \r\nL 137.460239 60.501714 \r\nL 137.473978 60.349235 \r\nL 137.886134 60.257749 \r\nL 137.92735 60.196757 \r\nL 138.39446 60.10527 \r\nL 138.463153 60.013783 \r\nL 138.930263 59.922297 \r\nL 138.998956 59.861305 \r\nL 139.205034 59.769818 \r\nL 139.273727 59.647836 \r\nL 139.933177 59.556349 \r\nL 139.974392 59.434366 \r\nL 140.221686 59.342879 \r\nL 140.262902 59.281888 \r\nL 140.688796 59.190401 \r\nL 140.784966 59.037923 \r\nL 140.922352 58.946436 \r\nL 140.991044 58.854949 \r\nL 141.540586 58.763462 \r\nL 141.554324 58.702471 \r\nL 142.076389 58.610984 \r\nL 142.103866 58.519497 \r\nL 142.323683 58.42801 \r\nL 142.406114 58.306028 \r\nL 142.584715 58.245036 \r\nL 142.694623 58.123054 \r\nL 143.38155 58.031567 \r\nL 143.436505 57.94008 \r\nL 143.67006 57.848593 \r\nL 143.67006 57.818098 \r\nL 143.972308 57.726611 \r\nL 144.041 57.604628 \r\nL 144.32951 57.513141 \r\nL 144.439418 57.45215 \r\nL 144.631758 57.360663 \r\nL 144.672973 57.299672 \r\nL 144.920267 57.208185 \r\nL 145.030175 57.086202 \r\nL 145.717102 56.994715 \r\nL 145.827011 56.933724 \r\nL 146.239167 56.842237 \r\nL 146.280383 56.75075 \r\nL 146.623846 56.689759 \r\nL 146.623846 56.628768 \r\nL 147.475636 56.537281 \r\nL 147.475636 56.506785 \r\nL 147.764145 56.445794 \r\nL 147.764145 56.323811 \r\nL 148.217517 56.232324 \r\nL 148.217517 56.201829 \r\nL 148.588457 56.110342 \r\nL 148.698366 56.04935 \r\nL 148.767058 55.957864 \r\nL 148.808274 55.896872 \r\nL 149.22043 55.835881 \r\nL 149.330339 55.683403 \r\nL 149.605109 55.622412 \r\nL 149.646325 55.530925 \r\nL 149.948573 55.439438 \r\nL 150.044743 55.378446 \r\nL 150.360729 55.28696 \r\nL 150.388206 55.225968 \r\nL 151.377381 55.164977 \r\nL 151.377381 55.103986 \r\nL 151.652152 55.012499 \r\nL 151.652152 54.982003 \r\nL 151.926923 54.890516 \r\nL 151.995616 54.799029 \r\nL 152.682543 54.738038 \r\nL 152.792451 54.58556 \r\nL 152.874882 54.494073 \r\nL 152.957313 54.433082 \r\nL 153.479378 54.341595 \r\nL 153.548071 54.280603 \r\nL 153.795364 54.189117 \r\nL 153.795364 54.158621 \r\nL 154.138828 54.067134 \r\nL 154.166305 54.006143 \r\nL 154.537246 53.914656 \r\nL 154.605938 53.853665 \r\nL 155.471466 53.762178 \r\nL 155.471466 53.731682 \r\nL 155.81493 53.640195 \r\nL 155.81493 53.609699 \r\nL 156.488118 53.518213 \r\nL 156.515596 53.365734 \r\nL 156.859059 53.274247 \r\nL 156.900275 53.213256 \r\nL 157.532248 53.121769 \r\nL 157.573463 53.060778 \r\nL 158.301606 52.969291 \r\nL 158.411514 52.877804 \r\nL 159.01601 52.786317 \r\nL 159.029749 52.725326 \r\nL 159.441905 52.633839 \r\nL 159.551813 52.572848 \r\nL 159.757891 52.481361 \r\nL 159.8678 52.389874 \r\nL 160.14257 52.298387 \r\nL 160.252479 52.2069 \r\nL 160.678373 52.115413 \r\nL 160.788282 52.054422 \r\nL 160.980621 51.962935 \r\nL 160.980621 51.932439 \r\nL 161.255392 51.840952 \r\nL 161.3653 51.749465 \r\nL 161.681287 51.657979 \r\nL 161.681287 51.596987 \r\nL 162.011012 51.5055 \r\nL 162.079705 51.414013 \r\nL 162.546815 51.322527 \r\nL 162.546815 51.292031 \r\nL 162.917756 51.200544 \r\nL 163.013925 51.109057 \r\nL 163.412343 51.01757 \r\nL 163.508513 50.926083 \r\nL 164.222917 50.834596 \r\nL 164.222917 50.804101 \r\nL 164.841151 50.712614 \r\nL 164.868628 50.560136 \r\nL 165.198353 50.52964 \r\nL 165.294523 50.377162 \r\nL 165.583033 50.285675 \r\nL 165.583033 50.255179 \r\nL 165.98145 50.163692 \r\nL 166.050143 50.102701 \r\nL 166.434822 50.011214 \r\nL 166.530992 49.950223 \r\nL 167.108011 49.858736 \r\nL 167.135488 49.797745 \r\nL 167.410259 49.706258 \r\nL 167.520167 49.584275 \r\nL 168.440649 49.492788 \r\nL 168.536819 49.401301 \r\nL 168.825328 49.309814 \r\nL 168.894021 49.187832 \r\nL 169.292439 49.096345 \r\nL 169.292439 49.065849 \r\nL 169.732072 48.974362 \r\nL 169.732072 48.943867 \r\nL 170.460215 48.85238 \r\nL 170.528907 48.760893 \r\nL 170.886109 48.669406 \r\nL 170.886109 48.63891 \r\nL 171.366958 48.547423 \r\nL 171.366958 48.516928 \r\nL 172.095101 48.425441 \r\nL 172.191271 48.333954 \r\nL 172.397349 48.242467 \r\nL 172.397349 48.211971 \r\nL 173.04306 48.120485 \r\nL 173.04306 48.089989 \r\nL 173.688772 47.998502 \r\nL 173.688772 47.968006 \r\nL 174.26579 47.907015 \r\nL 174.26579 47.846024 \r\nL 174.526823 47.754537 \r\nL 174.526823 47.724041 \r\nL 174.92524 47.632554 \r\nL 174.92524 47.602059 \r\nL 175.254965 47.510572 \r\nL 175.296181 47.44958 \r\nL 175.900677 47.358094 \r\nL 175.941892 47.266607 \r\nL 176.326572 47.17512 \r\nL 176.422741 47.083633 \r\nL 176.697512 46.992146 \r\nL 176.724989 46.900659 \r\nL 177.233315 46.809172 \r\nL 177.329485 46.717685 \r\nL 178.043889 46.626198 \r\nL 178.071366 46.534711 \r\nL 179.019326 46.443224 \r\nL 179.019326 46.412729 \r\nL 179.513913 46.321242 \r\nL 179.527652 46.260251 \r\nL 179.816161 46.168764 \r\nL 179.816161 46.138268 \r\nL 180.461872 46.046781 \r\nL 180.544304 45.955294 \r\nL 181.148799 45.863807 \r\nL 181.148799 45.833312 \r\nL 181.61591 45.741825 \r\nL 181.61591 45.711329 \r\nL 182.165451 45.619842 \r\nL 182.165451 45.589347 \r\nL 182.921071 45.49786 \r\nL 182.989764 45.436868 \r\nL 184.281187 45.345381 \r\nL 184.377357 45.28439 \r\nL 184.555958 45.192903 \r\nL 184.555958 45.162408 \r\nL 185.036807 45.070921 \r\nL 185.036807 45.040425 \r\nL 185.655041 44.979434 \r\nL 185.668779 44.887947 \r\nL 186.410661 44.79646 \r\nL 186.410661 44.765964 \r\nL 186.918987 44.704973 \r\nL 186.946464 44.613486 \r\nL 187.798253 44.521999 \r\nL 187.798253 44.491504 \r\nL 188.512657 44.400017 \r\nL 188.622566 44.339025 \r\nL 189.158369 44.247538 \r\nL 189.158369 44.217043 \r\nL 190.09259 44.125556 \r\nL 190.202498 44.064565 \r\nL 190.820732 43.973078 \r\nL 190.820732 43.942582 \r\nL 191.603829 43.851095 \r\nL 191.603829 43.8206 \r\nL 192.318233 43.729113 \r\nL 192.400665 43.637626 \r\nL 193.238716 43.546139 \r\nL 193.238716 43.515643 \r\nL 193.843211 43.424156 \r\nL 193.870688 43.363165 \r\nL 194.475184 43.271678 \r\nL 194.585093 43.149696 \r\nL 195.368189 43.088704 \r\nL 195.478098 42.997217 \r\nL 196.673351 42.90573 \r\nL 196.728305 42.814243 \r\nL 197.964774 42.722757 \r\nL 197.964774 42.692261 \r\nL 199.792 42.600774 \r\nL 199.874431 42.478791 \r\nL 200.753697 42.387305 \r\nL 200.863606 42.295818 \r\nL 201.289501 42.204331 \r\nL 201.371932 42.143339 \r\nL 202.759524 42.051853 \r\nL 202.855694 41.92987 \r\nL 203.968516 41.838383 \r\nL 203.968516 41.807887 \r\nL 204.669182 41.716401 \r\nL 204.669182 41.685905 \r\nL 204.943952 41.594418 \r\nL 205.053861 41.533427 \r\nL 206.276591 41.44194 \r\nL 206.331545 41.380948 \r\nL 207.210812 41.289462 \r\nL 207.210812 41.258966 \r\nL 207.499321 41.167479 \r\nL 207.499321 41.136983 \r\nL 208.474757 41.045496 \r\nL 208.570927 40.984505 \r\nL 209.450194 40.893018 \r\nL 209.450194 40.862523 \r\nL 210.631708 40.771036 \r\nL 210.631708 40.74054 \r\nL 212.472673 40.649053 \r\nL 212.50015 40.588062 \r\nL 213.187077 40.496575 \r\nL 213.25577 40.435584 \r\nL 214.244945 40.344097 \r\nL 214.244945 40.313601 \r\nL 214.931872 40.222114 \r\nL 214.931872 40.191619 \r\nL 215.261597 40.100132 \r\nL 215.261597 40.03914 \r\nL 215.866092 39.947653 \r\nL 215.866092 39.917158 \r\nL 216.607974 39.825671 \r\nL 216.717882 39.76468 \r\nL 217.693318 39.673193 \r\nL 217.762011 39.581706 \r\nL 219.039695 39.490219 \r\nL 219.039695 39.429228 \r\nL 219.864008 39.337741 \r\nL 219.864008 39.307245 \r\nL 221.045522 39.215758 \r\nL 221.045522 39.185263 \r\nL 222.336945 39.093776 \r\nL 222.336945 39.06328 \r\nL 223.284905 38.971793 \r\nL 223.284905 38.941297 \r\nL 223.916877 38.849811 \r\nL 224.013047 38.788819 \r\nL 224.617543 38.697332 \r\nL 224.617543 38.666837 \r\nL 225.579241 38.57535 \r\nL 225.661672 38.514358 \r\nL 226.650847 38.422872 \r\nL 226.650847 38.392376 \r\nL 227.530114 38.300889 \r\nL 227.585068 38.239898 \r\nL 228.519289 38.148411 \r\nL 228.519289 38.117915 \r\nL 229.673326 38.026428 \r\nL 229.783234 37.965437 \r\nL 231.280735 37.87395 \r\nL 231.280735 37.843454 \r\nL 231.981401 37.751968 \r\nL 231.981401 37.721472 \r\nL 232.585897 37.629985 \r\nL 232.585897 37.599489 \r\nL 232.998053 37.508002 \r\nL 233.107961 37.447011 \r\nL 233.891058 37.355524 \r\nL 233.891058 37.325029 \r\nL 234.207045 37.233542 \r\nL 234.207045 37.203046 \r\nL 235.883147 37.111559 \r\nL 235.883147 37.081063 \r\nL 236.22661 36.989577 \r\nL 236.295303 36.928585 \r\nL 237.325693 36.837098 \r\nL 237.325693 36.806603 \r\nL 239.317782 36.715116 \r\nL 239.372736 36.654125 \r\nL 240.018447 36.562638 \r\nL 240.018447 36.532142 \r\nL 241.612118 36.440655 \r\nL 241.612118 36.410159 \r\nL 242.834848 36.318673 \r\nL 242.834848 36.288177 \r\nL 244.909368 36.19669 \r\nL 244.909368 36.166194 \r\nL 246.695378 36.074707 \r\nL 246.695378 36.044212 \r\nL 246.77781 36.044212 \r\nL 247.8082 35.952725 \r\nL 247.8082 35.922229 \r\nL 247.918109 35.922229 \r\nL 249.566733 35.830742 \r\nL 249.607949 35.769751 \r\nL 251.490129 35.678264 \r\nL 251.490129 35.647768 \r\nL 253.399786 35.556282 \r\nL 253.509695 35.49529 \r\nL 256.023848 35.403803 \r\nL 256.023848 35.373308 \r\nL 257.658734 35.281821 \r\nL 257.658734 35.251325 \r\nL 259.815685 35.159838 \r\nL 259.815685 35.129343 \r\nL 260.557566 35.037856 \r\nL 260.557566 35.00736 \r\nL 261.711604 34.915873 \r\nL 261.711604 34.885378 \r\nL 263.731169 34.793891 \r\nL 263.731169 34.763395 \r\nL 267.701607 34.671908 \r\nL 267.701607 34.641412 \r\nL 269.116677 34.549926 \r\nL 269.116677 34.488934 \r\nL 272.702436 34.397447 \r\nL 272.702436 34.366952 \r\nL 273.911428 34.275465 \r\nL 274.007598 34.214473 \r\nL 276.205764 34.122987 \r\nL 276.205764 34.092491 \r\nL 279.503014 34.001004 \r\nL 279.503014 33.970508 \r\nL 282.731571 33.879021 \r\nL 282.731571 33.848526 \r\nL 284.462627 33.757039 \r\nL 284.462627 33.726543 \r\nL 287.141643 33.635056 \r\nL 287.141643 33.604561 \r\nL 287.540061 33.513074 \r\nL 287.540061 33.482578 \r\nL 289.33981 33.391091 \r\nL 289.33981 33.360596 \r\nL 293.997175 33.269109 \r\nL 293.997175 33.238613 \r\nL 298.077522 33.147126 \r\nL 298.077522 33.116631 \r\nL 298.94305 33.025144 \r\nL 298.94305 32.994648 \r\nL 304.191172 32.903161 \r\nL 304.191172 32.872665 \r\nL 315.236959 32.781178 \r\nL 315.236959 32.750683 \r\nL 321.323133 32.659196 \r\nL 321.323133 32.6287 \r\nL 332.217796 32.537213 \r\nL 332.217796 32.506718 \r\nL 336.435528 32.415231 \r\nL 336.435528 32.384735 \r\nL 346.918035 32.293248 \r\nL 346.918035 32.262753 \r\nL 363.363068 32.201761 \r\nL 363.363068 32.201761 \r\n\" style=\"fill:none;stroke:#1f77b4;stroke-linecap:square;stroke-width:1.5;\"/>\r\n   </g>\r\n   <g id=\"patch_3\">\r\n    <path d=\"M 43.78125 239.758125 \r\nL 43.78125 22.318125 \r\n\" style=\"fill:none;stroke:#000000;stroke-linecap:square;stroke-linejoin:miter;stroke-width:0.8;\"/>\r\n   </g>\r\n   <g id=\"patch_4\">\r\n    <path d=\"M 378.58125 239.758125 \r\nL 378.58125 22.318125 \r\n\" style=\"fill:none;stroke:#000000;stroke-linecap:square;stroke-linejoin:miter;stroke-width:0.8;\"/>\r\n   </g>\r\n   <g id=\"patch_5\">\r\n    <path d=\"M 43.78125 239.758125 \r\nL 378.58125 239.758125 \r\n\" style=\"fill:none;stroke:#000000;stroke-linecap:square;stroke-linejoin:miter;stroke-width:0.8;\"/>\r\n   </g>\r\n   <g id=\"patch_6\">\r\n    <path d=\"M 43.78125 22.318125 \r\nL 378.58125 22.318125 \r\n\" style=\"fill:none;stroke:#000000;stroke-linecap:square;stroke-linejoin:miter;stroke-width:0.8;\"/>\r\n   </g>\r\n   <g id=\"text_15\">\r\n    <!-- ROC curve for XGBoost -->\r\n    <g transform=\"translate(141.621563 16.318125)scale(0.12 -0.12)\">\r\n     <defs>\r\n      <path d=\"M 39.40625 66.21875 \r\nQ 28.65625 66.21875 22.328125 58.203125 \r\nQ 16.015625 50.203125 16.015625 36.375 \r\nQ 16.015625 22.609375 22.328125 14.59375 \r\nQ 28.65625 6.59375 39.40625 6.59375 \r\nQ 50.140625 6.59375 56.421875 14.59375 \r\nQ 62.703125 22.609375 62.703125 36.375 \r\nQ 62.703125 50.203125 56.421875 58.203125 \r\nQ 50.140625 66.21875 39.40625 66.21875 \r\nz\r\nM 39.40625 74.21875 \r\nQ 54.734375 74.21875 63.90625 63.9375 \r\nQ 73.09375 53.65625 73.09375 36.375 \r\nQ 73.09375 19.140625 63.90625 8.859375 \r\nQ 54.734375 -1.421875 39.40625 -1.421875 \r\nQ 24.03125 -1.421875 14.8125 8.828125 \r\nQ 5.609375 19.09375 5.609375 36.375 \r\nQ 5.609375 53.65625 14.8125 63.9375 \r\nQ 24.03125 74.21875 39.40625 74.21875 \r\nz\r\n\" id=\"DejaVuSans-79\"/>\r\n      <path d=\"M 64.40625 67.28125 \r\nL 64.40625 56.890625 \r\nQ 59.421875 61.53125 53.78125 63.8125 \r\nQ 48.140625 66.109375 41.796875 66.109375 \r\nQ 29.296875 66.109375 22.65625 58.46875 \r\nQ 16.015625 50.828125 16.015625 36.375 \r\nQ 16.015625 21.96875 22.65625 14.328125 \r\nQ 29.296875 6.6875 41.796875 6.6875 \r\nQ 48.140625 6.6875 53.78125 8.984375 \r\nQ 59.421875 11.28125 64.40625 15.921875 \r\nL 64.40625 5.609375 \r\nQ 59.234375 2.09375 53.4375 0.328125 \r\nQ 47.65625 -1.421875 41.21875 -1.421875 \r\nQ 24.65625 -1.421875 15.125 8.703125 \r\nQ 5.609375 18.84375 5.609375 36.375 \r\nQ 5.609375 53.953125 15.125 64.078125 \r\nQ 24.65625 74.21875 41.21875 74.21875 \r\nQ 47.75 74.21875 53.53125 72.484375 \r\nQ 59.328125 70.75 64.40625 67.28125 \r\nz\r\n\" id=\"DejaVuSans-67\"/>\r\n      <path id=\"DejaVuSans-32\"/>\r\n      <path d=\"M 48.78125 52.59375 \r\nL 48.78125 44.1875 \r\nQ 44.96875 46.296875 41.140625 47.34375 \r\nQ 37.3125 48.390625 33.40625 48.390625 \r\nQ 24.65625 48.390625 19.8125 42.84375 \r\nQ 14.984375 37.3125 14.984375 27.296875 \r\nQ 14.984375 17.28125 19.8125 11.734375 \r\nQ 24.65625 6.203125 33.40625 6.203125 \r\nQ 37.3125 6.203125 41.140625 7.25 \r\nQ 44.96875 8.296875 48.78125 10.40625 \r\nL 48.78125 2.09375 \r\nQ 45.015625 0.34375 40.984375 -0.53125 \r\nQ 36.96875 -1.421875 32.421875 -1.421875 \r\nQ 20.0625 -1.421875 12.78125 6.34375 \r\nQ 5.515625 14.109375 5.515625 27.296875 \r\nQ 5.515625 40.671875 12.859375 48.328125 \r\nQ 20.21875 56 33.015625 56 \r\nQ 37.15625 56 41.109375 55.140625 \r\nQ 45.0625 54.296875 48.78125 52.59375 \r\nz\r\n\" id=\"DejaVuSans-99\"/>\r\n      <path d=\"M 8.5 21.578125 \r\nL 8.5 54.6875 \r\nL 17.484375 54.6875 \r\nL 17.484375 21.921875 \r\nQ 17.484375 14.15625 20.5 10.265625 \r\nQ 23.53125 6.390625 29.59375 6.390625 \r\nQ 36.859375 6.390625 41.078125 11.03125 \r\nQ 45.3125 15.671875 45.3125 23.6875 \r\nL 45.3125 54.6875 \r\nL 54.296875 54.6875 \r\nL 54.296875 0 \r\nL 45.3125 0 \r\nL 45.3125 8.40625 \r\nQ 42.046875 3.421875 37.71875 1 \r\nQ 33.40625 -1.421875 27.6875 -1.421875 \r\nQ 18.265625 -1.421875 13.375 4.4375 \r\nQ 8.5 10.296875 8.5 21.578125 \r\nz\r\nM 31.109375 56 \r\nz\r\n\" id=\"DejaVuSans-117\"/>\r\n      <path d=\"M 41.109375 46.296875 \r\nQ 39.59375 47.171875 37.8125 47.578125 \r\nQ 36.03125 48 33.890625 48 \r\nQ 26.265625 48 22.1875 43.046875 \r\nQ 18.109375 38.09375 18.109375 28.8125 \r\nL 18.109375 0 \r\nL 9.078125 0 \r\nL 9.078125 54.6875 \r\nL 18.109375 54.6875 \r\nL 18.109375 46.1875 \r\nQ 20.953125 51.171875 25.484375 53.578125 \r\nQ 30.03125 56 36.53125 56 \r\nQ 37.453125 56 38.578125 55.875 \r\nQ 39.703125 55.765625 41.0625 55.515625 \r\nz\r\n\" id=\"DejaVuSans-114\"/>\r\n      <path d=\"M 2.984375 54.6875 \r\nL 12.5 54.6875 \r\nL 29.59375 8.796875 \r\nL 46.6875 54.6875 \r\nL 56.203125 54.6875 \r\nL 35.6875 0 \r\nL 23.484375 0 \r\nz\r\n\" id=\"DejaVuSans-118\"/>\r\n      <path d=\"M 56.203125 29.59375 \r\nL 56.203125 25.203125 \r\nL 14.890625 25.203125 \r\nQ 15.484375 15.921875 20.484375 11.0625 \r\nQ 25.484375 6.203125 34.421875 6.203125 \r\nQ 39.59375 6.203125 44.453125 7.46875 \r\nQ 49.3125 8.734375 54.109375 11.28125 \r\nL 54.109375 2.78125 \r\nQ 49.265625 0.734375 44.1875 -0.34375 \r\nQ 39.109375 -1.421875 33.890625 -1.421875 \r\nQ 20.796875 -1.421875 13.15625 6.1875 \r\nQ 5.515625 13.8125 5.515625 26.8125 \r\nQ 5.515625 40.234375 12.765625 48.109375 \r\nQ 20.015625 56 32.328125 56 \r\nQ 43.359375 56 49.78125 48.890625 \r\nQ 56.203125 41.796875 56.203125 29.59375 \r\nz\r\nM 47.21875 32.234375 \r\nQ 47.125 39.59375 43.09375 43.984375 \r\nQ 39.0625 48.390625 32.421875 48.390625 \r\nQ 24.90625 48.390625 20.390625 44.140625 \r\nQ 15.875 39.890625 15.1875 32.171875 \r\nz\r\n\" id=\"DejaVuSans-101\"/>\r\n      <path d=\"M 37.109375 75.984375 \r\nL 37.109375 68.5 \r\nL 28.515625 68.5 \r\nQ 23.6875 68.5 21.796875 66.546875 \r\nQ 19.921875 64.59375 19.921875 59.515625 \r\nL 19.921875 54.6875 \r\nL 34.71875 54.6875 \r\nL 34.71875 47.703125 \r\nL 19.921875 47.703125 \r\nL 19.921875 0 \r\nL 10.890625 0 \r\nL 10.890625 47.703125 \r\nL 2.296875 47.703125 \r\nL 2.296875 54.6875 \r\nL 10.890625 54.6875 \r\nL 10.890625 58.5 \r\nQ 10.890625 67.625 15.140625 71.796875 \r\nQ 19.390625 75.984375 28.609375 75.984375 \r\nz\r\n\" id=\"DejaVuSans-102\"/>\r\n      <path d=\"M 30.609375 48.390625 \r\nQ 23.390625 48.390625 19.1875 42.75 \r\nQ 14.984375 37.109375 14.984375 27.296875 \r\nQ 14.984375 17.484375 19.15625 11.84375 \r\nQ 23.34375 6.203125 30.609375 6.203125 \r\nQ 37.796875 6.203125 41.984375 11.859375 \r\nQ 46.1875 17.53125 46.1875 27.296875 \r\nQ 46.1875 37.015625 41.984375 42.703125 \r\nQ 37.796875 48.390625 30.609375 48.390625 \r\nz\r\nM 30.609375 56 \r\nQ 42.328125 56 49.015625 48.375 \r\nQ 55.71875 40.765625 55.71875 27.296875 \r\nQ 55.71875 13.875 49.015625 6.21875 \r\nQ 42.328125 -1.421875 30.609375 -1.421875 \r\nQ 18.84375 -1.421875 12.171875 6.21875 \r\nQ 5.515625 13.875 5.515625 27.296875 \r\nQ 5.515625 40.765625 12.171875 48.375 \r\nQ 18.84375 56 30.609375 56 \r\nz\r\n\" id=\"DejaVuSans-111\"/>\r\n      <path d=\"M 6.296875 72.90625 \r\nL 16.890625 72.90625 \r\nL 35.015625 45.796875 \r\nL 53.21875 72.90625 \r\nL 63.8125 72.90625 \r\nL 40.375 37.890625 \r\nL 65.375 0 \r\nL 54.78125 0 \r\nL 34.28125 31 \r\nL 13.625 0 \r\nL 2.984375 0 \r\nL 29 38.921875 \r\nz\r\n\" id=\"DejaVuSans-88\"/>\r\n      <path d=\"M 59.515625 10.40625 \r\nL 59.515625 29.984375 \r\nL 43.40625 29.984375 \r\nL 43.40625 38.09375 \r\nL 69.28125 38.09375 \r\nL 69.28125 6.78125 \r\nQ 63.578125 2.734375 56.6875 0.65625 \r\nQ 49.8125 -1.421875 42 -1.421875 \r\nQ 24.90625 -1.421875 15.25 8.5625 \r\nQ 5.609375 18.5625 5.609375 36.375 \r\nQ 5.609375 54.25 15.25 64.234375 \r\nQ 24.90625 74.21875 42 74.21875 \r\nQ 49.125 74.21875 55.546875 72.453125 \r\nQ 61.96875 70.703125 67.390625 67.28125 \r\nL 67.390625 56.78125 \r\nQ 61.921875 61.421875 55.765625 63.765625 \r\nQ 49.609375 66.109375 42.828125 66.109375 \r\nQ 29.4375 66.109375 22.71875 58.640625 \r\nQ 16.015625 51.171875 16.015625 36.375 \r\nQ 16.015625 21.625 22.71875 14.15625 \r\nQ 29.4375 6.6875 42.828125 6.6875 \r\nQ 48.046875 6.6875 52.140625 7.59375 \r\nQ 56.25 8.5 59.515625 10.40625 \r\nz\r\n\" id=\"DejaVuSans-71\"/>\r\n      <path d=\"M 19.671875 34.8125 \r\nL 19.671875 8.109375 \r\nL 35.5 8.109375 \r\nQ 43.453125 8.109375 47.28125 11.40625 \r\nQ 51.125 14.703125 51.125 21.484375 \r\nQ 51.125 28.328125 47.28125 31.5625 \r\nQ 43.453125 34.8125 35.5 34.8125 \r\nz\r\nM 19.671875 64.796875 \r\nL 19.671875 42.828125 \r\nL 34.28125 42.828125 \r\nQ 41.5 42.828125 45.03125 45.53125 \r\nQ 48.578125 48.25 48.578125 53.8125 \r\nQ 48.578125 59.328125 45.03125 62.0625 \r\nQ 41.5 64.796875 34.28125 64.796875 \r\nz\r\nM 9.8125 72.90625 \r\nL 35.015625 72.90625 \r\nQ 46.296875 72.90625 52.390625 68.21875 \r\nQ 58.5 63.53125 58.5 54.890625 \r\nQ 58.5 48.1875 55.375 44.234375 \r\nQ 52.25 40.28125 46.1875 39.3125 \r\nQ 53.46875 37.75 57.5 32.78125 \r\nQ 61.53125 27.828125 61.53125 20.40625 \r\nQ 61.53125 10.640625 54.890625 5.3125 \r\nQ 48.25 0 35.984375 0 \r\nL 9.8125 0 \r\nz\r\n\" id=\"DejaVuSans-66\"/>\r\n      <path d=\"M 44.28125 53.078125 \r\nL 44.28125 44.578125 \r\nQ 40.484375 46.53125 36.375 47.5 \r\nQ 32.28125 48.484375 27.875 48.484375 \r\nQ 21.1875 48.484375 17.84375 46.4375 \r\nQ 14.5 44.390625 14.5 40.28125 \r\nQ 14.5 37.15625 16.890625 35.375 \r\nQ 19.28125 33.59375 26.515625 31.984375 \r\nL 29.59375 31.296875 \r\nQ 39.15625 29.25 43.1875 25.515625 \r\nQ 47.21875 21.78125 47.21875 15.09375 \r\nQ 47.21875 7.46875 41.1875 3.015625 \r\nQ 35.15625 -1.421875 24.609375 -1.421875 \r\nQ 20.21875 -1.421875 15.453125 -0.5625 \r\nQ 10.6875 0.296875 5.421875 2 \r\nL 5.421875 11.28125 \r\nQ 10.40625 8.6875 15.234375 7.390625 \r\nQ 20.0625 6.109375 24.8125 6.109375 \r\nQ 31.15625 6.109375 34.5625 8.28125 \r\nQ 37.984375 10.453125 37.984375 14.40625 \r\nQ 37.984375 18.0625 35.515625 20.015625 \r\nQ 33.0625 21.96875 24.703125 23.78125 \r\nL 21.578125 24.515625 \r\nQ 13.234375 26.265625 9.515625 29.90625 \r\nQ 5.8125 33.546875 5.8125 39.890625 \r\nQ 5.8125 47.609375 11.28125 51.796875 \r\nQ 16.75 56 26.8125 56 \r\nQ 31.78125 56 36.171875 55.265625 \r\nQ 40.578125 54.546875 44.28125 53.078125 \r\nz\r\n\" id=\"DejaVuSans-115\"/>\r\n      <path d=\"M 18.3125 70.21875 \r\nL 18.3125 54.6875 \r\nL 36.8125 54.6875 \r\nL 36.8125 47.703125 \r\nL 18.3125 47.703125 \r\nL 18.3125 18.015625 \r\nQ 18.3125 11.328125 20.140625 9.421875 \r\nQ 21.96875 7.515625 27.59375 7.515625 \r\nL 36.8125 7.515625 \r\nL 36.8125 0 \r\nL 27.59375 0 \r\nQ 17.1875 0 13.234375 3.875 \r\nQ 9.28125 7.765625 9.28125 18.015625 \r\nL 9.28125 47.703125 \r\nL 2.6875 47.703125 \r\nL 2.6875 54.6875 \r\nL 9.28125 54.6875 \r\nL 9.28125 70.21875 \r\nz\r\n\" id=\"DejaVuSans-116\"/>\r\n     </defs>\r\n     <use xlink:href=\"#DejaVuSans-82\"/>\r\n     <use x=\"69.482422\" xlink:href=\"#DejaVuSans-79\"/>\r\n     <use x=\"148.193359\" xlink:href=\"#DejaVuSans-67\"/>\r\n     <use x=\"218.017578\" xlink:href=\"#DejaVuSans-32\"/>\r\n     <use x=\"249.804688\" xlink:href=\"#DejaVuSans-99\"/>\r\n     <use x=\"304.785156\" xlink:href=\"#DejaVuSans-117\"/>\r\n     <use x=\"368.164062\" xlink:href=\"#DejaVuSans-114\"/>\r\n     <use x=\"409.277344\" xlink:href=\"#DejaVuSans-118\"/>\r\n     <use x=\"468.457031\" xlink:href=\"#DejaVuSans-101\"/>\r\n     <use x=\"529.980469\" xlink:href=\"#DejaVuSans-32\"/>\r\n     <use x=\"561.767578\" xlink:href=\"#DejaVuSans-102\"/>\r\n     <use x=\"596.972656\" xlink:href=\"#DejaVuSans-111\"/>\r\n     <use x=\"658.154297\" xlink:href=\"#DejaVuSans-114\"/>\r\n     <use x=\"699.267578\" xlink:href=\"#DejaVuSans-32\"/>\r\n     <use x=\"731.054688\" xlink:href=\"#DejaVuSans-88\"/>\r\n     <use x=\"799.560547\" xlink:href=\"#DejaVuSans-71\"/>\r\n     <use x=\"877.050781\" xlink:href=\"#DejaVuSans-66\"/>\r\n     <use x=\"945.654297\" xlink:href=\"#DejaVuSans-111\"/>\r\n     <use x=\"1006.835938\" xlink:href=\"#DejaVuSans-111\"/>\r\n     <use x=\"1068.017578\" xlink:href=\"#DejaVuSans-115\"/>\r\n     <use x=\"1120.117188\" xlink:href=\"#DejaVuSans-116\"/>\r\n    </g>\r\n   </g>\r\n  </g>\r\n </g>\r\n <defs>\r\n  <clipPath id=\"p670c795679\">\r\n   <rect height=\"217.44\" width=\"334.8\" x=\"43.78125\" y=\"22.318125\"/>\r\n  </clipPath>\r\n </defs>\r\n</svg>\r\n",
      "image/png": "[encoded data removed]"
     },
     "metadata": {
      "needs_background": "light"
     }
    }
   ],
   "source": [
    "import matplotlib.pyplot as plt\n",
    "\n",
    "fpr, tpr, _ = roc_curve(y_val, predict_proba[:,1])\n",
    "plt.plot(fpr, tpr)\n",
    "plt.xlabel('FPR')\n",
    "plt.ylabel('TPR')\n",
    "plt.title('ROC curve for XGBoost')\n",
    "plt.show()"
   ]
  }
 ]
}